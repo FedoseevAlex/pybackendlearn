{
 "cells": [
  {
   "cell_type": "markdown",
   "id": "5aece8b6-b1c8-4f43-8b0f-5aac8992a640",
   "metadata": {},
   "source": [
    "# Что такое ООП?"
   ]
  },
  {
   "cell_type": "markdown",
   "id": "265095f7-8436-453a-b8a2-bdb8940fe901",
   "metadata": {},
   "source": [
    "Ранее мы всегда использовали императивное программирование. Это составление набора инструкций для компьютера чтобы он их выполнил."
   ]
  },
  {
   "cell_type": "code",
   "execution_count": 5,
   "id": "21ffe1d0-9f8d-41b4-8d90-2f3ee13f5f42",
   "metadata": {},
   "outputs": [],
   "source": [
    "def foo(x: int):\n",
    "    print(x)"
   ]
  },
  {
   "cell_type": "code",
   "execution_count": 3,
   "id": "d2566f65-2ac5-42b7-b64b-179ec3140253",
   "metadata": {},
   "outputs": [
    {
     "data": {
      "text/plain": [
       "['__annotations__',\n",
       " '__call__',\n",
       " '__class__',\n",
       " '__closure__',\n",
       " '__code__',\n",
       " '__defaults__',\n",
       " '__delattr__',\n",
       " '__dict__',\n",
       " '__dir__',\n",
       " '__doc__',\n",
       " '__eq__',\n",
       " '__format__',\n",
       " '__ge__',\n",
       " '__get__',\n",
       " '__getattribute__',\n",
       " '__globals__',\n",
       " '__gt__',\n",
       " '__hash__',\n",
       " '__init__',\n",
       " '__init_subclass__',\n",
       " '__kwdefaults__',\n",
       " '__le__',\n",
       " '__lt__',\n",
       " '__module__',\n",
       " '__name__',\n",
       " '__ne__',\n",
       " '__new__',\n",
       " '__qualname__',\n",
       " '__reduce__',\n",
       " '__reduce_ex__',\n",
       " '__repr__',\n",
       " '__setattr__',\n",
       " '__sizeof__',\n",
       " '__str__',\n",
       " '__subclasshook__']"
      ]
     },
     "execution_count": 3,
     "metadata": {},
     "output_type": "execute_result"
    }
   ],
   "source": [
    "dir(foo)"
   ]
  },
  {
   "cell_type": "code",
   "execution_count": 4,
   "id": "b20b998e-a2b2-4c16-816a-bf1c86d47e0e",
   "metadata": {},
   "outputs": [
    {
     "data": {
      "text/plain": [
       "['__abs__',\n",
       " '__add__',\n",
       " '__and__',\n",
       " '__bool__',\n",
       " '__ceil__',\n",
       " '__class__',\n",
       " '__delattr__',\n",
       " '__dir__',\n",
       " '__divmod__',\n",
       " '__doc__',\n",
       " '__eq__',\n",
       " '__float__',\n",
       " '__floor__',\n",
       " '__floordiv__',\n",
       " '__format__',\n",
       " '__ge__',\n",
       " '__getattribute__',\n",
       " '__getnewargs__',\n",
       " '__gt__',\n",
       " '__hash__',\n",
       " '__index__',\n",
       " '__init__',\n",
       " '__init_subclass__',\n",
       " '__int__',\n",
       " '__invert__',\n",
       " '__le__',\n",
       " '__lshift__',\n",
       " '__lt__',\n",
       " '__mod__',\n",
       " '__mul__',\n",
       " '__ne__',\n",
       " '__neg__',\n",
       " '__new__',\n",
       " '__or__',\n",
       " '__pos__',\n",
       " '__pow__',\n",
       " '__radd__',\n",
       " '__rand__',\n",
       " '__rdivmod__',\n",
       " '__reduce__',\n",
       " '__reduce_ex__',\n",
       " '__repr__',\n",
       " '__rfloordiv__',\n",
       " '__rlshift__',\n",
       " '__rmod__',\n",
       " '__rmul__',\n",
       " '__ror__',\n",
       " '__round__',\n",
       " '__rpow__',\n",
       " '__rrshift__',\n",
       " '__rshift__',\n",
       " '__rsub__',\n",
       " '__rtruediv__',\n",
       " '__rxor__',\n",
       " '__setattr__',\n",
       " '__sizeof__',\n",
       " '__str__',\n",
       " '__sub__',\n",
       " '__subclasshook__',\n",
       " '__truediv__',\n",
       " '__trunc__',\n",
       " '__xor__',\n",
       " 'as_integer_ratio',\n",
       " 'bit_length',\n",
       " 'conjugate',\n",
       " 'denominator',\n",
       " 'from_bytes',\n",
       " 'imag',\n",
       " 'numerator',\n",
       " 'real',\n",
       " 'to_bytes']"
      ]
     },
     "execution_count": 4,
     "metadata": {},
     "output_type": "execute_result"
    }
   ],
   "source": [
    "x = 10\n",
    "dir(x)"
   ]
  },
  {
   "cell_type": "markdown",
   "id": "526a9c52-9f82-4736-a5d4-1a67d648921b",
   "metadata": {},
   "source": [
    "ООП это методология программирования, основанная на представлении программы в виде совокупности взаимодействующих объектов. Каждый объект при этом является экземпляром (инстансом) определенного класса. А сами классы образуют иерархию наследования."
   ]
  },
  {
   "cell_type": "markdown",
   "id": "e97a31e8-fbc0-4282-a095-fe6b66e0d54b",
   "metadata": {},
   "source": [
    "# Понятия класс и объект\n",
    "Класс -- это чертеж для создания объекта.\n",
    "\n",
    "Объект (экземпляр класса или инстанс) -- это сущность, выполненная по чертежу."
   ]
  },
  {
   "cell_type": "code",
   "execution_count": 6,
   "id": "dc06ced7-563c-4418-bfc9-52d73a986e06",
   "metadata": {},
   "outputs": [],
   "source": [
    "from collections import Counter"
   ]
  },
  {
   "cell_type": "code",
   "execution_count": 8,
   "id": "bb4f4d41-5a22-43d8-a1b7-25543d693521",
   "metadata": {},
   "outputs": [],
   "source": [
    "# help(Counter)\n",
    "# Так как хелп огромный, мы его закомментируем"
   ]
  },
  {
   "cell_type": "code",
   "execution_count": 10,
   "id": "ff6206ba-a8ff-4d0b-add5-65081475ea4b",
   "metadata": {},
   "outputs": [
    {
     "data": {
      "text/plain": [
       "collections.Counter"
      ]
     },
     "execution_count": 10,
     "metadata": {},
     "output_type": "execute_result"
    }
   ],
   "source": [
    "# Counter -- class\n",
    "c = Counter()\n",
    "type(c)\n",
    "# c - инстанс класса Counter"
   ]
  },
  {
   "cell_type": "code",
   "execution_count": 13,
   "id": "2a9c988d-c1b0-4ea1-b3b3-4a7f2bd82714",
   "metadata": {},
   "outputs": [],
   "source": [
    "# help(int)"
   ]
  },
  {
   "cell_type": "markdown",
   "id": "e33e09fc-a401-40f0-ba9d-c523044e875c",
   "metadata": {},
   "source": [
    "# Как создавать классы"
   ]
  },
  {
   "cell_type": "code",
   "execution_count": 14,
   "id": "1c558a7a-87a3-4d0f-b070-ad5622caa11b",
   "metadata": {},
   "outputs": [],
   "source": [
    "# Есть ключевое слово class которое позволяет создавать классы\n",
    "# PEP8\n",
    "class Foo:\n",
    "    pass\n",
    "\n",
    "def some_long_name_for_function():\n",
    "    pass\n",
    "\n",
    "class SomeLongNameForClass():\n",
    "    pass"
   ]
  },
  {
   "cell_type": "code",
   "execution_count": 16,
   "id": "b26fd400-eaf7-4303-a0c7-b170109a9c4f",
   "metadata": {},
   "outputs": [],
   "source": [
    "class Foo:\n",
    "    pass"
   ]
  },
  {
   "cell_type": "code",
   "execution_count": 17,
   "id": "a34c66bd-5789-46d0-ac07-ba396f56b0ab",
   "metadata": {},
   "outputs": [],
   "source": [
    "x = Foo()"
   ]
  },
  {
   "cell_type": "code",
   "execution_count": 18,
   "id": "31a5ff93-839c-49ea-8025-dd3778cacd02",
   "metadata": {},
   "outputs": [
    {
     "data": {
      "text/plain": [
       "__main__.Foo"
      ]
     },
     "execution_count": 18,
     "metadata": {},
     "output_type": "execute_result"
    }
   ],
   "source": [
    "type(x)"
   ]
  },
  {
   "cell_type": "code",
   "execution_count": 20,
   "id": "0867f0b1-6ec7-4d86-ad09-8ded4d49dc6d",
   "metadata": {},
   "outputs": [
    {
     "data": {
      "text/plain": [
       "['__class__',\n",
       " '__delattr__',\n",
       " '__dict__',\n",
       " '__dir__',\n",
       " '__doc__',\n",
       " '__eq__',\n",
       " '__format__',\n",
       " '__ge__',\n",
       " '__getattribute__',\n",
       " '__gt__',\n",
       " '__hash__',\n",
       " '__init__',\n",
       " '__init_subclass__',\n",
       " '__le__',\n",
       " '__lt__',\n",
       " '__module__',\n",
       " '__ne__',\n",
       " '__new__',\n",
       " '__reduce__',\n",
       " '__reduce_ex__',\n",
       " '__repr__',\n",
       " '__setattr__',\n",
       " '__sizeof__',\n",
       " '__str__',\n",
       " '__subclasshook__',\n",
       " '__weakref__']"
      ]
     },
     "execution_count": 20,
     "metadata": {},
     "output_type": "execute_result"
    }
   ],
   "source": [
    "dir(x)\n",
    "# Объект класса без каких-то свойств ничего и не умеет"
   ]
  },
  {
   "cell_type": "markdown",
   "id": "7b890361-bad6-4266-8073-4a477bc36d63",
   "metadata": {},
   "source": [
    "Дока на устройство питона изнутри\n",
    "https://docs.python.org/3/reference/datamodel.html#basic-customization"
   ]
  },
  {
   "cell_type": "code",
   "execution_count": 23,
   "id": "30720228-13e2-4027-9882-fb61c8035b05",
   "metadata": {},
   "outputs": [],
   "source": [
    "class Foo:\n",
    "    def __init__(self, x='wow'):\n",
    "        \"\"\"\n",
    "        Этот метод определяет то, какие аргументы будут нужны объекту при его создании.\n",
    "        Также тут нужно определять атрибуты объекта.\n",
    "        \"\"\"\n",
    "        print(x)"
   ]
  },
  {
   "cell_type": "code",
   "execution_count": 25,
   "id": "0acc0d27-2a86-418b-bd3b-44b552070185",
   "metadata": {},
   "outputs": [
    {
     "name": "stdout",
     "output_type": "stream",
     "text": [
      "kek\n"
     ]
    }
   ],
   "source": [
    "x = Foo(x='kek')"
   ]
  },
  {
   "cell_type": "code",
   "execution_count": 26,
   "id": "91687531-a2ba-4019-a4f6-b11c75d8d34c",
   "metadata": {},
   "outputs": [
    {
     "name": "stdout",
     "output_type": "stream",
     "text": [
      "wow python called __new__\n",
      "python called __init__\n"
     ]
    },
    {
     "data": {
      "text/plain": [
       "<__main__.Bar at 0x7f3df058d250>"
      ]
     },
     "execution_count": 26,
     "metadata": {},
     "output_type": "execute_result"
    }
   ],
   "source": [
    "class Bar:\n",
    "    def __new__(cls):\n",
    "        print(\"wow python called __new__\")\n",
    "        return object.__new__(cls) # Вот этот объект попадает в self\n",
    "    \n",
    "    def __init__(self):\n",
    "        print(\"python called __init__\")\n",
    "        \n",
    "Bar()"
   ]
  },
  {
   "cell_type": "code",
   "execution_count": 27,
   "id": "7e63c954-6a36-400d-a259-4dd8a064c4c7",
   "metadata": {},
   "outputs": [],
   "source": [
    "class Foo:\n",
    "    def __init__(self, x):\n",
    "        self.x = x\n",
    "        \n",
    "        "
   ]
  },
  {
   "cell_type": "code",
   "execution_count": 32,
   "id": "ac33f949-2749-455e-b181-a10e57759da8",
   "metadata": {},
   "outputs": [
    {
     "name": "stdout",
     "output_type": "stream",
     "text": [
      "wow\n",
      "kek\n"
     ]
    }
   ],
   "source": [
    "foo = Foo(\"wow\")\n",
    "dir(foo)\n",
    "print(foo.x)\n",
    "\n",
    "foo2 = Foo(\"kek\")\n",
    "print(foo2.x)"
   ]
  },
  {
   "cell_type": "code",
   "execution_count": 33,
   "id": "6d8214e1-f9f9-48ed-a552-4bd89bd57c7e",
   "metadata": {},
   "outputs": [],
   "source": [
    "class Person:\n",
    "    def __init__(self, name, surname, blood_type):\n",
    "        self.name = name\n",
    "        self.surname = surname\n",
    "        self.blood_type = blood_type"
   ]
  },
  {
   "cell_type": "code",
   "execution_count": 34,
   "id": "77055aef-ae9f-47f4-b56b-5f5f605f453f",
   "metadata": {},
   "outputs": [],
   "source": [
    "sasha = Person(\"Саша\", \"Федосеев\", \"2+\")"
   ]
  },
  {
   "cell_type": "code",
   "execution_count": 36,
   "id": "3152c88a-bd1c-4d97-ab55-8c0a92f4a65f",
   "metadata": {},
   "outputs": [
    {
     "name": "stdout",
     "output_type": "stream",
     "text": [
      "<__main__.Person object at 0x7f3df060bdc0>\n"
     ]
    }
   ],
   "source": [
    "print(str(sasha))"
   ]
  },
  {
   "cell_type": "code",
   "execution_count": 48,
   "id": "a7eecff1-3ab4-4dca-91d3-bd09b6b201e5",
   "metadata": {},
   "outputs": [],
   "source": [
    "class Person:\n",
    "    def __init__(self, name, surname, blood_type):\n",
    "        self.name = name\n",
    "        self.surname = surname\n",
    "        self.blood_type = blood_type\n",
    "    \n",
    "    def __str__(self):\n",
    "        # return f\"{self.name} {self.surname} ({self.blood_type})\"\n",
    "        return \"{} {} ({})\".format(self.name, self.surname, self.blood_type)\n",
    "    \n",
    "    def __eq__(self, other):\n",
    "        name = self.name == other.name\n",
    "        surname = self.surname == other.surname\n",
    "        blood_type = self.blood_type == other.blood_type\n",
    "        return name and surname and blood_type"
   ]
  },
  {
   "cell_type": "code",
   "execution_count": 51,
   "id": "1eac7571-67e1-4c95-bd79-15fa6c3507d8",
   "metadata": {},
   "outputs": [],
   "source": [
    "sasha1 = Person(\"Саша\", \"Федосеев\", \"2+\")\n",
    "sasha2 = Person(\"Саша\", \"Федосеев\", \"2+\")\n",
    "ivan = Person(\"Иван\", \"Иванов\", \"4-\")"
   ]
  },
  {
   "cell_type": "code",
   "execution_count": 46,
   "id": "80b49a62-1197-43fc-b7a3-274d7bf8b1c1",
   "metadata": {},
   "outputs": [
    {
     "name": "stdout",
     "output_type": "stream",
     "text": [
      "Саша Федосеев (2+)\n"
     ]
    }
   ],
   "source": [
    "print(str(sasha1))"
   ]
  },
  {
   "cell_type": "code",
   "execution_count": 50,
   "id": "8250533e-a655-4932-8b98-e1d123d79cba",
   "metadata": {},
   "outputs": [
    {
     "data": {
      "text/plain": [
       "True"
      ]
     },
     "execution_count": 50,
     "metadata": {},
     "output_type": "execute_result"
    }
   ],
   "source": [
    "sasha1 == sasha2"
   ]
  },
  {
   "cell_type": "code",
   "execution_count": 52,
   "id": "bc08ee31-b6a7-4c04-810a-032caced738e",
   "metadata": {},
   "outputs": [
    {
     "data": {
      "text/plain": [
       "False"
      ]
     },
     "execution_count": 52,
     "metadata": {},
     "output_type": "execute_result"
    }
   ],
   "source": [
    "sasha1 == ivan"
   ]
  },
  {
   "cell_type": "code",
   "execution_count": 54,
   "id": "b1c6f697-2cb7-487a-81f7-3117d66caae6",
   "metadata": {},
   "outputs": [
    {
     "ename": "AttributeError",
     "evalue": "'str' object has no attribute 'name'",
     "output_type": "error",
     "traceback": [
      "\u001b[0;31m---------------------------------------------------------------------------\u001b[0m",
      "\u001b[0;31mAttributeError\u001b[0m                            Traceback (most recent call last)",
      "Input \u001b[0;32mIn [54]\u001b[0m, in \u001b[0;36m<cell line: 1>\u001b[0;34m()\u001b[0m\n\u001b[0;32m----> 1\u001b[0m \u001b[43msasha1\u001b[49m\u001b[43m \u001b[49m\u001b[38;5;241;43m==\u001b[39;49m\u001b[43m \u001b[49m\u001b[38;5;124;43m\"\u001b[39;49m\u001b[38;5;124;43mСаша\u001b[39;49m\u001b[38;5;124;43m\"\u001b[39;49m\n",
      "Input \u001b[0;32mIn [48]\u001b[0m, in \u001b[0;36mPerson.__eq__\u001b[0;34m(self, other)\u001b[0m\n\u001b[1;32m     11\u001b[0m \u001b[38;5;28;01mdef\u001b[39;00m \u001b[38;5;21m__eq__\u001b[39m(\u001b[38;5;28mself\u001b[39m, other):\n\u001b[0;32m---> 12\u001b[0m     name \u001b[38;5;241m=\u001b[39m \u001b[38;5;28mself\u001b[39m\u001b[38;5;241m.\u001b[39mname \u001b[38;5;241m==\u001b[39m \u001b[43mother\u001b[49m\u001b[38;5;241;43m.\u001b[39;49m\u001b[43mname\u001b[49m\n\u001b[1;32m     13\u001b[0m     surname \u001b[38;5;241m=\u001b[39m \u001b[38;5;28mself\u001b[39m\u001b[38;5;241m.\u001b[39msurname \u001b[38;5;241m==\u001b[39m other\u001b[38;5;241m.\u001b[39msurname\n\u001b[1;32m     14\u001b[0m     blood_type \u001b[38;5;241m=\u001b[39m \u001b[38;5;28mself\u001b[39m\u001b[38;5;241m.\u001b[39mblood_type \u001b[38;5;241m==\u001b[39m other\u001b[38;5;241m.\u001b[39mblood_type\n",
      "\u001b[0;31mAttributeError\u001b[0m: 'str' object has no attribute 'name'"
     ]
    }
   ],
   "source": [
    "sasha1 == \"Саша\""
   ]
  },
  {
   "cell_type": "code",
   "execution_count": 59,
   "id": "e12c71bb-8eaa-405d-9ad3-9c87ece6b069",
   "metadata": {},
   "outputs": [],
   "source": [
    "# Duck typing\n",
    "class Foo:\n",
    "    pass\n",
    "\n",
    "wow = Foo()\n",
    "\n",
    "wow.name = \"wow\"\n",
    "wow.surname = \"\"\n",
    "wow.blood_type = \"\""
   ]
  },
  {
   "cell_type": "code",
   "execution_count": 58,
   "id": "f9f7552f-780b-4beb-a06c-38ddb9f331b5",
   "metadata": {},
   "outputs": [
    {
     "data": {
      "text/plain": [
       "False"
      ]
     },
     "execution_count": 58,
     "metadata": {},
     "output_type": "execute_result"
    }
   ],
   "source": [
    "sasha1 == wow"
   ]
  },
  {
   "cell_type": "code",
   "execution_count": null,
   "id": "e5210348-ce82-465e-87e9-f52f181a7ec2",
   "metadata": {},
   "outputs": [],
   "source": []
  }
 ],
 "metadata": {
  "kernelspec": {
   "display_name": "Python 3 (ipykernel)",
   "language": "python",
   "name": "python3"
  },
  "language_info": {
   "codemirror_mode": {
    "name": "ipython",
    "version": 3
   },
   "file_extension": ".py",
   "mimetype": "text/x-python",
   "name": "python",
   "nbconvert_exporter": "python",
   "pygments_lexer": "ipython3",
   "version": "3.8.10"
  }
 },
 "nbformat": 4,
 "nbformat_minor": 5
}
