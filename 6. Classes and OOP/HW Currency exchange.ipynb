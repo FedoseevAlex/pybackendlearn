{
 "cells": [
  {
   "cell_type": "markdown",
   "id": "3aa2680d",
   "metadata": {},
   "source": [
    "# Currency exchange\n",
    "Реализовать абстрактный класс валюты Currency, с наследниками Euro, Dollar, Rubble.\n",
    "\n",
    "Пример использования:\n",
    "```\n",
    ">>> e = Euro(5)\n",
    ">>> e\n",
    "5 €\n",
    ">>> e.to(Dollar)\n",
    "6 $\n",
    ">>> sum([Euro(i) for i in range(5)])\n",
    "10 €\n",
    ">>> e > Euro(6)\n",
    "False\n",
    ">>> e + Dollar(10)\n",
    "16 €\n",
    ">>> Dollar(10) + e\n",
    "13 $\n",
    ">>> e.course = 2 # курс доллара к евро\n",
    ">>> e.to(Dollar)\n",
    "10 $\n",
    ">>> Euro.course(Dollar)\n",
    "2\n",
    ">>> Euro.course(Ruble)\n",
    "60\n",
    ">>> e.currency\n",
    "'Euro'\n",
    "```\n",
    "Дополнительно  \n",
    "- Красивый, читаемый код (\"Всегда пишите код так, будто сопровождать его будет склонный к насилию психопат, который знает, где вы живете. — Martin Golding\")\n",
    "- Документирование функций обязательно.\n",
    "- Абстрактный класс должен быть таким чтобы от него легко можно было отнаследовать и реализовать любую другую валюту\n",
    "- Объекты валют должны поддерживать математические операции сравнения, умножения на число, сложения, вычитания, деления на число\n"
   ]
  },
  {
   "cell_type": "code",
   "execution_count": null,
   "id": "a5ebf4f5",
   "metadata": {},
   "outputs": [],
   "source": []
  }
 ],
 "metadata": {
  "kernelspec": {
   "display_name": "Python 3 (ipykernel)",
   "language": "python",
   "name": "python3"
  },
  "language_info": {
   "codemirror_mode": {
    "name": "ipython",
    "version": 3
   },
   "file_extension": ".py",
   "mimetype": "text/x-python",
   "name": "python",
   "nbconvert_exporter": "python",
   "pygments_lexer": "ipython3",
   "version": "3.10.6"
  }
 },
 "nbformat": 4,
 "nbformat_minor": 5
}
