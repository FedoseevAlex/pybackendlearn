{
 "cells": [
  {
   "cell_type": "markdown",
   "id": "0f3de83e",
   "metadata": {},
   "source": [
    "# School members\n",
    "\n",
    "Создадим классы, которые будут описывать работников и учеников школы.\n",
    "\n",
    "Попробуем для начала описать учителей и учеников.\n",
    "\n",
    "Необходимо, чтобы у любого члена школы был метод .show() который:\n",
    "- для учеников будет печатать имя, фамилию и класс\n",
    "- для учителей будет показывать имя, фамилию, должность (учитель), специальность (математика, русский язык, ...)\n"
   ]
  },
  {
   "cell_type": "code",
   "execution_count": null,
   "id": "4998dc6d",
   "metadata": {},
   "outputs": [],
   "source": []
  },
  {
   "cell_type": "code",
   "execution_count": null,
   "id": "f071fd47",
   "metadata": {},
   "outputs": [],
   "source": []
  },
  {
   "cell_type": "code",
   "execution_count": null,
   "id": "41610a05",
   "metadata": {},
   "outputs": [],
   "source": []
  },
  {
   "cell_type": "code",
   "execution_count": null,
   "id": "546ce60c",
   "metadata": {},
   "outputs": [],
   "source": []
  },
  {
   "cell_type": "code",
   "execution_count": null,
   "id": "ab9f7934",
   "metadata": {},
   "outputs": [],
   "source": []
  },
  {
   "cell_type": "code",
   "execution_count": null,
   "id": "4b1a06d5",
   "metadata": {},
   "outputs": [],
   "source": []
  }
 ],
 "metadata": {
  "kernelspec": {
   "display_name": "Python 3 (ipykernel)",
   "language": "python",
   "name": "python3"
  },
  "language_info": {
   "codemirror_mode": {
    "name": "ipython",
    "version": 3
   },
   "file_extension": ".py",
   "mimetype": "text/x-python",
   "name": "python",
   "nbconvert_exporter": "python",
   "pygments_lexer": "ipython3",
   "version": "3.9.13"
  }
 },
 "nbformat": 4,
 "nbformat_minor": 5
}
