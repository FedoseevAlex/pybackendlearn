{
 "cells": [
  {
   "cell_type": "markdown",
   "id": "95b85216",
   "metadata": {},
   "source": [
    "# Matrix\n",
    "В этом задании требуется написать класс, который ведет себя как матрица.\n",
    "\n",
    "# Дополнительные ссылки\n",
    "https://docs.python.org/3/reference/datamodel.html"
   ]
  },
  {
   "cell_type": "markdown",
   "id": "0ef9fe47",
   "metadata": {},
   "source": [
    "## Требования к заданию"
   ]
  },
  {
   "cell_type": "markdown",
   "id": "af3a2413",
   "metadata": {},
   "source": [
    "### Матрицы можно проверить на равенство\n",
    "Объекты класса Matrix должен уметь сравниваться с другими объектами этого же типа.\n",
    "В данном требовании имеется ввиду именно возможность определить равны две матрицы или нет."
   ]
  },
  {
   "cell_type": "code",
   "execution_count": 2,
   "id": "f0c8799b",
   "metadata": {},
   "outputs": [],
   "source": [
    "# Раскомментируй, когда будешь готов проверять свое решение\n",
    "# a = Matrix([[1,2], [3,4]])\n",
    "# b = Matrix([[1,2], [3,4]])\n",
    "# c = Matrix([[8,7], [6,5]])\n",
    "# assert a == b\n",
    "# assert a != c"
   ]
  },
  {
   "cell_type": "markdown",
   "id": "de64608e",
   "metadata": {},
   "source": [
    "### Сложение для матриц должно работать\n",
    "В математике же можно складывать матрицы? Вот и у нас должно быть можно.\n",
    "Суммируем по правилам сложения матриц."
   ]
  },
  {
   "cell_type": "code",
   "execution_count": null,
   "id": "7c87bf40",
   "metadata": {},
   "outputs": [],
   "source": [
    "# Раскомментируй, когда будешь готов проверять свое решение\n",
    "# a = Matrix([[1,2], [3,4]])\n",
    "# b = Matrix([[8,7], [6,5]])\n",
    "# assert a + b == Matrix([[9, 9], [9, 9]])"
   ]
  },
  {
   "cell_type": "markdown",
   "id": "5328336a",
   "metadata": {},
   "source": [
    "### Умножение матриц тоже реализуем\n",
    "Умножение матриц не самая простая операция. К ней нужно отнестись внимательно!"
   ]
  },
  {
   "cell_type": "code",
   "execution_count": 3,
   "id": "aa3c305d",
   "metadata": {},
   "outputs": [],
   "source": [
    "# Раскомментируй, когда будешь готов проверять свое решение\n",
    "# a = Matrix([[1,2,3], [4,5,6]])\n",
    "# b = Matrix([[10,9], [8,7],[6,5]])\n",
    "# assert a * b == Matrix([[44, 38], [116, 101]])"
   ]
  },
  {
   "cell_type": "markdown",
   "id": "eb8cfbc3",
   "metadata": {},
   "source": [
    "### Нужно уметь транспонировать матрицу\n",
    "Мы же пишем серьезную матрицу)"
   ]
  },
  {
   "cell_type": "code",
   "execution_count": null,
   "id": "d910d99c",
   "metadata": {},
   "outputs": [],
   "source": [
    "# Раскомментируй, когда будешь готов проверять свое решение\n",
    "# a = Matrix([[1,2,3], [4,5,6]])\n",
    "# assert a.transpose() == Matrix([[1, 4], [2, 5], [3, 6]])"
   ]
  },
  {
   "cell_type": "markdown",
   "id": "71b2d12a",
   "metadata": {},
   "source": [
    "### Метод проверки матрицы на квадратность\n",
    "Этот метод должен выдавать True или False в зависимости от того квадратная матрица или нет."
   ]
  },
  {
   "cell_type": "code",
   "execution_count": 4,
   "id": "f5cf134c",
   "metadata": {},
   "outputs": [],
   "source": [
    "# Раскомментируй, когда будешь готов проверять свое решение\n",
    "# a = Matrix([[1, 2], [3, 4]])\n",
    "# assert a.is_square()\n",
    "# b = Matrix([[1, 2, 3], [4, 5, 6]])\n",
    "# assert not b.is_square()"
   ]
  },
  {
   "cell_type": "markdown",
   "id": "312546f5",
   "metadata": {},
   "source": [
    "### Метод проверки на симметричность\n",
    "Тут мы должны уметь проверять матрицу на симметричность относительно главной и побочной диагоналей.\n",
    "Естественно, что симметричной может быть только квадратная матрица."
   ]
  },
  {
   "cell_type": "code",
   "execution_count": 5,
   "id": "1db8dee4",
   "metadata": {},
   "outputs": [],
   "source": [
    "# Раскомментируй, когда будешь готов проверять свое решение\n",
    "# a = Matrix([[1, 1, 3], [1, 1, 2], [3, 2, 1]])\n",
    "# assert a.is_symmetric()\n",
    "# b = Matrix([[5, 4, 1], [6, 2, 4], [3, 6, 5]])\n",
    "# assert not b.is_symmetric()\n",
    "# assert b.is_symmetric(antidiagonal=True)"
   ]
  },
  {
   "cell_type": "code",
   "execution_count": null,
   "id": "2939f3d2",
   "metadata": {},
   "outputs": [],
   "source": []
  }
 ],
 "metadata": {
  "kernelspec": {
   "display_name": "Python 3 (ipykernel)",
   "language": "python",
   "name": "python3"
  },
  "language_info": {
   "codemirror_mode": {
    "name": "ipython",
    "version": 3
   },
   "file_extension": ".py",
   "mimetype": "text/x-python",
   "name": "python",
   "nbconvert_exporter": "python",
   "pygments_lexer": "ipython3",
   "version": "3.9.13"
  }
 },
 "nbformat": 4,
 "nbformat_minor": 5
}
