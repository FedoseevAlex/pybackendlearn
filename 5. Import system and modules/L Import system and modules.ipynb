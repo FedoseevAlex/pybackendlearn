{
 "cells": [
  {
   "cell_type": "markdown",
   "id": "db63769d-1fc5-44d6-b65f-3576981438f4",
   "metadata": {},
   "source": [
    "# Topics \n",
    "- Модули \n",
    "- Пакеты\n",
    "- Ключевое слово import \n",
    "- Зачем все это нужно\n",
    "- import *\n",
    "- `__all__`\n",
    "- Циклические импорты\n",
    "\n",
    "\n",
    "# Links and materials\n",
    "https://docs.python.org/3/reference/import.html  \n",
    "https://docs.python.org/3/glossary.html#term-module  \n",
    "https://peps.python.org/pep-0420/  "
   ]
  },
  {
   "cell_type": "markdown",
   "id": "e059a5ab-2564-463d-a4f6-19eab349a6dc",
   "metadata": {},
   "source": [
    "# Модули\n",
    "Это способ организации кода в Python."
   ]
  }
 ],
 "metadata": {
  "kernelspec": {
   "display_name": "Python 3 (ipykernel)",
   "language": "python",
   "name": "python3"
  },
  "language_info": {
   "codemirror_mode": {
    "name": "ipython",
    "version": 3
   },
   "file_extension": ".py",
   "mimetype": "text/x-python",
   "name": "python",
   "nbconvert_exporter": "python",
   "pygments_lexer": "ipython3",
   "version": "3.8.10"
  }
 },
 "nbformat": 4,
 "nbformat_minor": 5
}
