{
 "cells": [
  {
   "cell_type": "markdown",
   "id": "9e7cbf22",
   "metadata": {},
   "source": [
    "# Работа с переменными\n",
    "- Создай переменную типа str со значением \"Hello, world!\"\n",
    "- Создай переменную типа int со значением 100\n",
    "- Создай переменную типа float со значением 1.55"
   ]
  },
  {
   "cell_type": "code",
   "execution_count": null,
   "id": "715c28ab",
   "metadata": {},
   "outputs": [],
   "source": []
  },
  {
   "cell_type": "markdown",
   "id": "e8adc17a",
   "metadata": {},
   "source": [
    "# Поработаем с числами и переменными (введи код в поле ниже)\n",
    "\n",
    "```python\n",
    "x = 100\n",
    "print(11 + x)\n",
    "\n",
    "x = 100  \n",
    "y = 11.11  \n",
    "print(x + y)  \n",
    "type(x + y)  \n",
    "```"
   ]
  },
  {
   "cell_type": "code",
   "execution_count": null,
   "id": "c98e9360",
   "metadata": {},
   "outputs": [],
   "source": []
  },
  {
   "cell_type": "markdown",
   "id": "3ec04722",
   "metadata": {},
   "source": [
    "# Попробуем работу со строками (введи код в поле ниже)\n",
    " ```python\n",
    "hello = \"Hello\"  \n",
    "world = \"world\"  \n",
    "space = \" \"  \n",
    "comma = \",\"  \n",
    "exclaimation = \"!\"  \n",
    "```"
   ]
  },
  {
   "cell_type": "code",
   "execution_count": null,
   "id": "b0fd466a",
   "metadata": {},
   "outputs": [],
   "source": []
  },
  {
   "cell_type": "markdown",
   "id": "6b05454a",
   "metadata": {},
   "source": [
    "# Собери выражение Hello, world!\n",
    "Попробуй ввести пример в поле ниже. \n",
    "Измени этот пример так, чтобы получилось выражение \"Hello, world!\".\n",
    "Пример:\n",
    "```python\n",
    "hello = \"Hello\"\n",
    "space = \" \"\n",
    "there = \"there\"\n",
    "print(hello + space + there)\n",
    ">>> \"Hello there\"\n",
    "```"
   ]
  },
  {
   "cell_type": "code",
   "execution_count": null,
   "id": "cb4c02d3",
   "metadata": {},
   "outputs": [],
   "source": []
  },
  {
   "cell_type": "markdown",
   "id": "9c6f4040",
   "metadata": {},
   "source": [
    "# Достаем адрес переменной"
   ]
  },
  {
   "cell_type": "code",
   "execution_count": 1,
   "id": "1f26e379",
   "metadata": {},
   "outputs": [],
   "source": [
    "x = 11"
   ]
  },
  {
   "cell_type": "code",
   "execution_count": 3,
   "id": "698d8f1f",
   "metadata": {},
   "outputs": [],
   "source": [
    "# Тут твой код, который показывает адрес переменной\n",
    "..."
   ]
  },
  {
   "cell_type": "code",
   "execution_count": 4,
   "id": "a25ad248",
   "metadata": {},
   "outputs": [],
   "source": [
    "y = \"Wow, a string variable!!!\""
   ]
  },
  {
   "cell_type": "code",
   "execution_count": null,
   "id": "19a217ad",
   "metadata": {},
   "outputs": [],
   "source": [
    "# Тут твой код, который показывает адрес переменной\n",
    "..."
   ]
  }
 ],
 "metadata": {
  "kernelspec": {
   "display_name": "Python 3 (ipykernel)",
   "language": "python",
   "name": "python3"
  },
  "language_info": {
   "codemirror_mode": {
    "name": "ipython",
    "version": 3
   },
   "file_extension": ".py",
   "mimetype": "text/x-python",
   "name": "python",
   "nbconvert_exporter": "python",
   "pygments_lexer": "ipython3",
   "version": "3.9.13"
  }
 },
 "nbformat": 4,
 "nbformat_minor": 5
}
