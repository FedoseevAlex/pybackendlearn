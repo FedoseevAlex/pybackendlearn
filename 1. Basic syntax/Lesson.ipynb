{
 "cells": [
  {
   "cell_type": "markdown",
   "id": "40b1425d",
   "metadata": {},
   "source": [
    "# Topics \n",
    "- Базовый синтаксис языка\n",
    "\t- Ключевые слова\n",
    "    - Арифметические операторы\n",
    "    - Оператор присвоения\n",
    "    - Булевы операторы\n",
    "    - Двоичные операторы\n",
    "    - Сравнения\n",
    "    - Отступы\n",
    "    - Комментарии\n",
    "- Переменные и как ими пользоваться\n",
    "\t- Переменная это контейнер в памяти\n",
    "    - Присваивание\n",
    "    - Многочисленное присваивание\n",
    "\t- id(var) что это и зачем нужно\n",
    "\n",
    "\n",
    "# Links and materials\n",
    "https://docs.python.org/3/reference/simple_stmts.html\n",
    "https://docs.python.org/3/reference/expressions.html\n"
   ]
  },
  {
   "cell_type": "markdown",
   "id": "639ffbeb",
   "metadata": {},
   "source": [
    "# Базовый синтаксис \n",
    "Наиболее полная документация по синтаксису лежит [тут](https://docs.python.org/3/reference/expressions.html), но с нуля будет сложновато понять что там к чему. \n",
    "\n",
    "Некоторое из написанного далее может быть непонятным. Поэтому требуется только увидеть, что такие штуки в синтаксисе Python есть, не более.\n",
    "Итак, язык состоит из:\n",
    "- Ключевых слов  \n",
    "Это зарезервированные специальные слова для Python. Их можно использовать только так как задумали создатели языка.  \n",
    "Пример:   \n",
    "Ключевое слово `def`, только с его помощью можно создать функцию.   \n",
    "Ключевое слово `class`, оно позволяет создать класс.  \n",
    "- Оператора присвоения  \n",
    "Этот оператор выглядит как знак \"равно\" `=`.\n",
    "Он позволяет создать переменную или изменить ее значение.\n",
    "- Арифметических операторов  \n",
    "Ну тут многое из того, что мы уже (надеюсь) видели в школе:  \n",
    "`+`, `-`, `/`, `*`, `//`, `%`, `**`\n",
    "- Булевых операторов  \n",
    "Эти операторы используются для построения Булевой логики.  \n",
    "`and`, `or`, `not`\n",
    "- Двоичных (битовых) операторов  \n",
    "О таких операторах нужно знать, но использовать с осторожностью (можно переусложнить):  \n",
    "`>>`, `<<`, `|`, `&`, `^`\n",
    "- Сравнений  \n",
    "Больше, меньше и все все все:\n",
    "`>`, `<`, `<=`, `>=`, `==`, `!=`, `is`, `is not`, `in`, `not in`\n",
    "- Отступов  \n",
    "Отступы в Python это отличительная особенность этого языка.  \n",
    "Насколько я знаю ни в одном языке отступы не играют такой роли как в python.\n",
    "Рекомендуется, чтобы отступ был равен 4 пробелам. \n",
    "Есть, конечно, отклонения от этих рекомендаций, но это большая (надеюсь) редкость.\n",
    "Отступами выделяются блоки кода и добавляется вложенность.  \n",
    "Пример:  \n",
    "```python\n",
    "# Здесь символом · обозначены пробелы в отступах.\n",
    "if x > 0:  \n",
    "····print(\"Wow, x is bigger than 0. x: \", x)\n",
    "if x < 0:  \n",
    "····print(\"Hmmmm, x is smaller than 0. x: \", x)  \n",
    "```\n",
    "\n",
    "- Комментариев   \n",
    "https://stackoverflow.blog/2021/12/23/best-practices-for-writing-code-comments/  \n",
    "Сопроводительная информация к коду. Комментарии начинаются с символа `#` и до конца строки.  \n",
    "Пожалуйста, не пишите очевидных комментариев!  \n",
    "Как не надо:\n",
    "```python\n",
    "# Сложение a и b и результат сохраним в x\n",
    "x = a + b\n",
    "```\n",
    "Как лучше:  \n",
    "```python\n",
    "# http://tools.ietf.org/html/rfc4180 Стандарт определяет, что\n",
    "# строка в формате csv должна заканчиваться на \\r\\n.\n",
    "csv_string_builder.append(\"\\r\\n\");\n",
    "```"
   ]
  },
  {
   "cell_type": "markdown",
   "id": "5948c2ce",
   "metadata": {},
   "source": [
    "# Переменные\n",
    "Переменная это место в памяти, где хранятся данные программы. При этом чтобы людям было удобно оперировать какими-то данными переменным обычно дают какие-то внятные имена.  \n",
    "Создать переменную в Python можно через оператор присвоения.   "
   ]
  },
  {
   "cell_type": "code",
   "execution_count": 1,
   "id": "16edc3a7",
   "metadata": {},
   "outputs": [],
   "source": [
    "x = 81"
   ]
  },
  {
   "cell_type": "markdown",
   "id": "70e688ef",
   "metadata": {},
   "source": [
    "Теперь у нас есть переменная с именем \"x\", в которую мы положили число 81.\n",
    "Далее, мы можем использовать эту переменную в каких либо других выражениях"
   ]
  },
  {
   "cell_type": "code",
   "execution_count": 2,
   "id": "f7b07159",
   "metadata": {},
   "outputs": [
    {
     "data": {
      "text/plain": [
       "100"
      ]
     },
     "execution_count": 2,
     "metadata": {},
     "output_type": "execute_result"
    }
   ],
   "source": [
    "x + 19"
   ]
  },
  {
   "cell_type": "code",
   "execution_count": 3,
   "id": "f782e845",
   "metadata": {},
   "outputs": [
    {
     "data": {
      "text/plain": [
       "70"
      ]
     },
     "execution_count": 3,
     "metadata": {},
     "output_type": "execute_result"
    }
   ],
   "source": [
    "x - 11"
   ]
  },
  {
   "cell_type": "code",
   "execution_count": 4,
   "id": "02e75a5d",
   "metadata": {},
   "outputs": [
    {
     "data": {
      "text/plain": [
       "9.0"
      ]
     },
     "execution_count": 4,
     "metadata": {},
     "output_type": "execute_result"
    }
   ],
   "source": [
    "x / 9"
   ]
  },
  {
   "cell_type": "code",
   "execution_count": 5,
   "id": "7f1e6e41",
   "metadata": {},
   "outputs": [
    {
     "data": {
      "text/plain": [
       "810"
      ]
     },
     "execution_count": 5,
     "metadata": {},
     "output_type": "execute_result"
    }
   ],
   "source": [
    "x * 10"
   ]
  },
  {
   "cell_type": "markdown",
   "id": "58c11200",
   "metadata": {},
   "source": [
    "Мы можем поменять значение, которое лежит в этой переменной через тот же оператор присвоения."
   ]
  },
  {
   "cell_type": "code",
   "execution_count": 6,
   "id": "313ead7b",
   "metadata": {},
   "outputs": [],
   "source": [
    "x = 11"
   ]
  },
  {
   "cell_type": "code",
   "execution_count": 7,
   "id": "833407c5",
   "metadata": {},
   "outputs": [
    {
     "data": {
      "text/plain": [
       "11"
      ]
     },
     "execution_count": 7,
     "metadata": {},
     "output_type": "execute_result"
    }
   ],
   "source": [
    "x"
   ]
  },
  {
   "cell_type": "markdown",
   "id": "2b383d86",
   "metadata": {},
   "source": [
    "Python позволяет нам присваивать значения нескольким переменным одновременно (круто, да?). "
   ]
  },
  {
   "cell_type": "code",
   "execution_count": 8,
   "id": "f9daa0f9",
   "metadata": {},
   "outputs": [],
   "source": [
    "x, y = 1, 2"
   ]
  },
  {
   "cell_type": "code",
   "execution_count": 9,
   "id": "3c299e02",
   "metadata": {},
   "outputs": [
    {
     "data": {
      "text/plain": [
       "1"
      ]
     },
     "execution_count": 9,
     "metadata": {},
     "output_type": "execute_result"
    }
   ],
   "source": [
    "x"
   ]
  },
  {
   "cell_type": "code",
   "execution_count": 10,
   "id": "7300d15f",
   "metadata": {},
   "outputs": [
    {
     "data": {
      "text/plain": [
       "2"
      ]
     },
     "execution_count": 10,
     "metadata": {},
     "output_type": "execute_result"
    }
   ],
   "source": [
    "y"
   ]
  },
  {
   "cell_type": "markdown",
   "id": "4e09d6c0",
   "metadata": {},
   "source": [
    "Зачем это нужно? Сложно на синтетических примерах показать зачем это может пригодиться, но мы попробуем.  \n",
    "Допустим, нам нужно поменять значения переменных местами (почему бы и нет?)."
   ]
  },
  {
   "cell_type": "code",
   "execution_count": 11,
   "id": "279a69e8",
   "metadata": {},
   "outputs": [],
   "source": [
    "a, b = 10, 7"
   ]
  },
  {
   "cell_type": "code",
   "execution_count": 12,
   "id": "8887b277",
   "metadata": {},
   "outputs": [
    {
     "data": {
      "text/plain": [
       "10"
      ]
     },
     "execution_count": 12,
     "metadata": {},
     "output_type": "execute_result"
    }
   ],
   "source": [
    "a"
   ]
  },
  {
   "cell_type": "code",
   "execution_count": 13,
   "id": "aecf5442",
   "metadata": {},
   "outputs": [
    {
     "data": {
      "text/plain": [
       "7"
      ]
     },
     "execution_count": 13,
     "metadata": {},
     "output_type": "execute_result"
    }
   ],
   "source": [
    "b"
   ]
  },
  {
   "cell_type": "code",
   "execution_count": 14,
   "id": "6c61742d",
   "metadata": {},
   "outputs": [],
   "source": [
    "a, b = b, a"
   ]
  },
  {
   "cell_type": "code",
   "execution_count": 15,
   "id": "94d66fe6",
   "metadata": {},
   "outputs": [
    {
     "data": {
      "text/plain": [
       "7"
      ]
     },
     "execution_count": 15,
     "metadata": {},
     "output_type": "execute_result"
    }
   ],
   "source": [
    "a"
   ]
  },
  {
   "cell_type": "code",
   "execution_count": 16,
   "id": "f04ee47c",
   "metadata": {},
   "outputs": [
    {
     "data": {
      "text/plain": [
       "10"
      ]
     },
     "execution_count": 16,
     "metadata": {},
     "output_type": "execute_result"
    }
   ],
   "source": [
    "b"
   ]
  },
  {
   "cell_type": "markdown",
   "id": "3779feff",
   "metadata": {},
   "source": [
    "Предположим, что у нас есть Иванов Иван Иванович и нам нужно разобрать его ФИО на Ф, И и О в разные переменные."
   ]
  },
  {
   "cell_type": "code",
   "execution_count": 24,
   "id": "46ec022c",
   "metadata": {},
   "outputs": [],
   "source": [
    "full_name = \"Иванов Иван Иванович\"\n",
    "# Тут чутка магии\n",
    "# Разделим строку с именем по пробелам\n",
    "full_name_parts = full_name.split()\n",
    "# Разобрали по переменным\n",
    "last_name, name, middle_name = full_name_parts"
   ]
  },
  {
   "cell_type": "code",
   "execution_count": 18,
   "id": "b8d44fc6",
   "metadata": {},
   "outputs": [
    {
     "data": {
      "text/plain": [
       "'Иванов'"
      ]
     },
     "execution_count": 18,
     "metadata": {},
     "output_type": "execute_result"
    }
   ],
   "source": [
    "last_name # Фамилия"
   ]
  },
  {
   "cell_type": "code",
   "execution_count": 19,
   "id": "c7407f3a",
   "metadata": {},
   "outputs": [
    {
     "data": {
      "text/plain": [
       "'Иван'"
      ]
     },
     "execution_count": 19,
     "metadata": {},
     "output_type": "execute_result"
    }
   ],
   "source": [
    "name # Имя"
   ]
  },
  {
   "cell_type": "code",
   "execution_count": 20,
   "id": "1e2c3830",
   "metadata": {},
   "outputs": [
    {
     "data": {
      "text/plain": [
       "'Иванович'"
      ]
     },
     "execution_count": 20,
     "metadata": {},
     "output_type": "execute_result"
    }
   ],
   "source": [
    "middle_name # Отчество"
   ]
  },
  {
   "cell_type": "markdown",
   "id": "b51509c8",
   "metadata": {},
   "source": [
    "Ну и последнее, что хотелось бы прояснить: Как под капотом работают переменные?  \n",
    "У каждой переменной есть имя и адрес ее данных в памяти.  \n",
    "Python дает возможность посмотреть адрес переменных в памяти через функцию `id`."
   ]
  },
  {
   "cell_type": "code",
   "execution_count": 21,
   "id": "8c94595d",
   "metadata": {},
   "outputs": [
    {
     "data": {
      "text/plain": [
       "4368280144"
      ]
     },
     "execution_count": 21,
     "metadata": {},
     "output_type": "execute_result"
    }
   ],
   "source": [
    "x = 10\n",
    "id(x)"
   ]
  },
  {
   "cell_type": "markdown",
   "id": "873cc92a",
   "metadata": {},
   "source": [
    "Здесь мы создали переменную `x` и присвоили ей значение 10. Теперь `x` - это имя области памяти, где хранится число 10.\n"
   ]
  },
  {
   "cell_type": "code",
   "execution_count": 22,
   "id": "cd274bc1",
   "metadata": {},
   "outputs": [
    {
     "data": {
      "text/plain": [
       "4368472240"
      ]
     },
     "execution_count": 22,
     "metadata": {},
     "output_type": "execute_result"
    }
   ],
   "source": [
    "y = 123\n",
    "id(y)"
   ]
  },
  {
   "cell_type": "markdown",
   "id": "ccbf3f17",
   "metadata": {},
   "source": [
    "А тут мы сделали `y` и в другой `(!)` области памяти теперь хранится значение 123. Достать это значение можно через использование имени переменной `y` в коде."
   ]
  }
 ],
 "metadata": {
  "kernelspec": {
   "display_name": "Python 3 (ipykernel)",
   "language": "python",
   "name": "python3"
  },
  "language_info": {
   "codemirror_mode": {
    "name": "ipython",
    "version": 3
   },
   "file_extension": ".py",
   "mimetype": "text/x-python",
   "name": "python",
   "nbconvert_exporter": "python",
   "pygments_lexer": "ipython3",
   "version": "3.9.13"
  }
 },
 "nbformat": 4,
 "nbformat_minor": 5
}
