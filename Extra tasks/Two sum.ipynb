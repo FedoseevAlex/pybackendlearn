{
 "cells": [
  {
   "cell_type": "markdown",
   "id": "77cc4e69",
   "metadata": {},
   "source": [
    "# Two sum\n",
    "\n",
    "Дан массив чисел типа int и target число.  \n",
    "Нужно вернуть индексы чисел в массиве, которые при сложении дадут target.  \n",
    "Можно считать, что каждый пример имеет только одно решение. Запрещено использовать один и тот же элемент дважды.  \n",
    "Индексы нужно вернуть в любом порядке.  \n",
    " \n",
    "```\n",
    "Пример 1:\n",
    "\n",
    "Вход: nums = [2,7,11,15], target = 9\n",
    "Выход: [0,1]\n",
    "Объяснение: Так как nums[0] + nums[1] == 9, мы должны получить [0, 1].\n",
    "```\n",
    "```\n",
    "Пример 2:\n",
    "\n",
    "Вход: nums = [3,2,4], target = 6\n",
    "Выход: [1,2]\n",
    "```\n",
    "```\n",
    "Пример 3:\n",
    "\n",
    "Вход: nums = [3,3], target = 6\n",
    "Выход: [0,1]\n",
    "```\n",
    "\n",
    "**Условия**:\n",
    "\n",
    "2 <= nums.length <= 104  \n",
    "-109 <= nums[i] <= 109  \n",
    "-109 <= target <= 109  \n",
    "  \n",
    "Для примеров существует только один правильный ответ."
   ]
  },
  {
   "cell_type": "code",
   "execution_count": 5,
   "id": "f0ba89c4",
   "metadata": {},
   "outputs": [],
   "source": [
    "# Импорт для типизации\n",
    "from typing import List\n",
    "\n",
    "\n",
    "def solution(nums: int, target: int) -> List[int]:\n",
    "    ...\n",
    "    return []"
   ]
  },
  {
   "cell_type": "markdown",
   "id": "dc9a81fa",
   "metadata": {},
   "source": [
    "## Проверка для примеров"
   ]
  },
  {
   "cell_type": "code",
   "execution_count": 7,
   "id": "4c2725d3",
   "metadata": {},
   "outputs": [
    {
     "ename": "AssertionError",
     "evalue": "result: []",
     "output_type": "error",
     "traceback": [
      "\u001b[0;31m---------------------------------------------------------------------------\u001b[0m",
      "\u001b[0;31mAssertionError\u001b[0m                            Traceback (most recent call last)",
      "Cell \u001b[0;32mIn [7], line 1\u001b[0m\n\u001b[0;32m----> 1\u001b[0m \u001b[38;5;28;01massert\u001b[39;00m \u001b[38;5;28mset\u001b[39m(solution([\u001b[38;5;241m2\u001b[39m,\u001b[38;5;241m7\u001b[39m,\u001b[38;5;241m11\u001b[39m,\u001b[38;5;241m15\u001b[39m], \u001b[38;5;241m9\u001b[39m)) \u001b[38;5;241m==\u001b[39m {\u001b[38;5;241m0\u001b[39m, \u001b[38;5;241m1\u001b[39m}, \u001b[38;5;124mf\u001b[39m\u001b[38;5;124m\"\u001b[39m\u001b[38;5;124mresult: \u001b[39m\u001b[38;5;132;01m{\u001b[39;00msolution([\u001b[38;5;241m2\u001b[39m,\u001b[38;5;241m7\u001b[39m,\u001b[38;5;241m11\u001b[39m,\u001b[38;5;241m15\u001b[39m], \u001b[38;5;241m9\u001b[39m)\u001b[38;5;132;01m}\u001b[39;00m\u001b[38;5;124m\"\u001b[39m\n\u001b[1;32m      2\u001b[0m \u001b[38;5;28;01massert\u001b[39;00m \u001b[38;5;28mset\u001b[39m(solution([\u001b[38;5;241m3\u001b[39m,\u001b[38;5;241m2\u001b[39m,\u001b[38;5;241m4\u001b[39m], \u001b[38;5;241m6\u001b[39m)) \u001b[38;5;241m==\u001b[39m {\u001b[38;5;241m1\u001b[39m, \u001b[38;5;241m2\u001b[39m}, \u001b[38;5;124mf\u001b[39m\u001b[38;5;124m\"\u001b[39m\u001b[38;5;124mresult: \u001b[39m\u001b[38;5;132;01m{\u001b[39;00msolution([\u001b[38;5;241m3\u001b[39m,\u001b[38;5;241m2\u001b[39m,\u001b[38;5;241m4\u001b[39m], \u001b[38;5;241m6\u001b[39m)\u001b[38;5;132;01m}\u001b[39;00m\u001b[38;5;124m\"\u001b[39m\n\u001b[1;32m      3\u001b[0m \u001b[38;5;28;01massert\u001b[39;00m \u001b[38;5;28mset\u001b[39m(solution([\u001b[38;5;241m3\u001b[39m,\u001b[38;5;241m3\u001b[39m], \u001b[38;5;241m6\u001b[39m)) \u001b[38;5;241m==\u001b[39m {\u001b[38;5;241m0\u001b[39m, \u001b[38;5;241m1\u001b[39m}, \u001b[38;5;124mf\u001b[39m\u001b[38;5;124m\"\u001b[39m\u001b[38;5;124mresult: \u001b[39m\u001b[38;5;132;01m{\u001b[39;00msolution([\u001b[38;5;241m3\u001b[39m,\u001b[38;5;241m3\u001b[39m], \u001b[38;5;241m6\u001b[39m)\u001b[38;5;132;01m}\u001b[39;00m\u001b[38;5;124m\"\u001b[39m\n",
      "\u001b[0;31mAssertionError\u001b[0m: result: []"
     ]
    }
   ],
   "source": [
    "assert set(solution([2,7,11,15], 9)) == {0, 1}, f\"result: {solution([2,7,11,15], 9)}\"\n",
    "assert set(solution([3,2,4], 6)) == {1, 2}, f\"result: {solution([3,2,4], 6)}\"\n",
    "assert set(solution([3,3], 6)) == {0, 1}, f\"result: {solution([3,3], 6)}\"\n",
    "print(\"Все работает!!!!\")"
   ]
  }
 ],
 "metadata": {
  "kernelspec": {
   "display_name": "Python 3 (ipykernel)",
   "language": "python",
   "name": "python3"
  },
  "language_info": {
   "codemirror_mode": {
    "name": "ipython",
    "version": 3
   },
   "file_extension": ".py",
   "mimetype": "text/x-python",
   "name": "python",
   "nbconvert_exporter": "python",
   "pygments_lexer": "ipython3",
   "version": "3.10.6"
  }
 },
 "nbformat": 4,
 "nbformat_minor": 5
}
