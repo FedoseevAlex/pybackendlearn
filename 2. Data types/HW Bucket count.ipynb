{
 "cells": [
  {
   "cell_type": "markdown",
   "id": "02f58eb6",
   "metadata": {},
   "source": [
    "# Раскладываем числа по диапазонам\n",
    "Итак, у нас есть список со случайными числами.\n",
    "Необходимо разложить числа по тысячам.\n",
    "В качестве ответа нужно привести полное разложение чисел по диапазонам и найти в какой диапазон попало больше всего чисел. (Под \"найти\" тут понимается код, который выберет нужный диапазон)\n",
    "\n",
    "Например:\n",
    "```python\n",
    "random_list = [4008, 6477, 2630, 6877, 3645, 151, 8004, 3328, 6129, 1683]\n",
    "???\n",
    "???\n",
    "???\n",
    "# Результат отсортирован для наглядности\n",
    "result\n",
    "{0: 1, 1000: 1, 2000: 1, 3000: 2, 4000: 1, 6000: 3, 8000: 1}\n",
    "\n",
    "top_range\n",
    "6000\n",
    "# Можно использовать этот пример чтобы протестить свое решение\n",
    "```\n",
    "То есть видно, что есть:\n",
    "- Одно число < 1000\n",
    "- Одно число 1000 < x < 2000\n",
    "- Одно число 2000 < x < 3000\n",
    "- Два числа 3000 < x < 4000\n",
    "- Одно число 4000 < x < 5000\n",
    "- Три числа 6000 < x < 7000\n",
    "- Одно число 8000 < x < 9000\n",
    "Соответственно, самый населенный диапазон: 6000\n",
    "\n",
    "## Подсказки и полезные материалы\n",
    "https://docs.python.org/3/library/stdtypes.html?highlight=dict#mapping-types-dict\n",
    "https://ru.wikipedia.org/wiki/%D0%91%D0%BB%D0%BE%D1%87%D0%BD%D0%B0%D1%8F_%D1%81%D0%BE%D1%80%D1%82%D0%B8%D1%80%D0%BE%D0%B2%D0%BA%D0%B0\n",
    "https://docs.python.org/3/library/stdtypes.html?highlight=integer%20division#numeric-types-int-float-complex\n",
    "https://docs.python.org/3/library/collections.html#collections.Counter"
   ]
  },
  {
   "cell_type": "code",
   "execution_count": 2,
   "id": "91bea1b1",
   "metadata": {},
   "outputs": [],
   "source": [
    "# Код генерирует список из 1000 случайных чисел\n",
    "import random\n",
    "# Следующую строку обязательно нужно выполнить иначе задание будет сложнее проверить\n",
    "random.seed(20220523)\n",
    "random_list = [int(random.gammavariate(10, 500)) for _ in range(1000)]"
   ]
  },
  {
   "cell_type": "code",
   "execution_count": null,
   "id": "2f9be41f",
   "metadata": {},
   "outputs": [],
   "source": [
    "# Тут решение\n",
    "..."
   ]
  }
 ],
 "metadata": {
  "kernelspec": {
   "display_name": "Python 3 (ipykernel)",
   "language": "python",
   "name": "python3"
  },
  "language_info": {
   "codemirror_mode": {
    "name": "ipython",
    "version": 3
   },
   "file_extension": ".py",
   "mimetype": "text/x-python",
   "name": "python",
   "nbconvert_exporter": "python",
   "pygments_lexer": "ipython3",
   "version": "3.9.13"
  }
 },
 "nbformat": 4,
 "nbformat_minor": 5
}
