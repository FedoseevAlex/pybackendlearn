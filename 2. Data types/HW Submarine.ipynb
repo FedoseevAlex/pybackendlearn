{
 "cells": [
  {
   "cell_type": "markdown",
   "id": "758edaf3",
   "metadata": {},
   "source": [
    "# Подводная лодка\n",
    "На носу подводной лодки закреплен гидроакустический датчик. Его задача измерять глубину дна в месте где находится лодка.\n",
    "Вывод датчика выглядит как набор чисел, который характеризует то как меняется глубина по мере движения лодки.\n",
    "Стартуем!\n",
    "Лодка начала движение куда-то вглубь с постоянно работающим датчиком.\n",
    "Например, у нас есть следующий отчет:\n",
    "```\n",
    "199\n",
    "200\n",
    "208\n",
    "210\n",
    "200\n",
    "207\n",
    "240\n",
    "269\n",
    "260\n",
    "263\n",
    "```\n",
    "Нам из этого отчета надо выяснить как изменяется рельеф дна.\n",
    "Чтобы понять это в простом варианте нужно посчитать количество раз когда между измерениями глубина увеличивается и сколько раз уменьшается.\n",
    "Для указанного отчета результат будет следующим:\n",
    "```\n",
    "199 (N/A - нет предыдущего измерения поэтому ничего нельзя сказать)\n",
    "200 (увеличилась) # 1\n",
    "208 (увеличилась) # 2\n",
    "210 (увеличилась) # 3\n",
    "\n",
    "200 (уменьшилась) - 1\n",
    "\n",
    "207 (увеличилась) # 4\n",
    "240 (увеличилась) # 5\n",
    "269 (увеличилась) # 6\n",
    "\n",
    "260 (уменьшилась) - 2\n",
    "\n",
    "263 (увеличилась) # 7\n",
    "```\n",
    "Для 7 измерений глубина увеличилась, а для 2 уменьшилась.\n",
    "Так как для 7 измерений глубина увеличивается и только лишь для 2 измерений дно уменьшается, то этого можно сделать вывод, что дно углубляется.\n",
    "\n",
    "Потом принимаем решение, куда идет дно\n",
    "increases > decreases печатаем \"Вниз\"\n",
    "decreases > increases печатаем \"Вверх\"\n",
    "increases == decreases печатаем \"Ровное\"\n",
    "\n",
    "## Полезные ссылки\n",
    "https://docs.python.org/3/library/functions.html?highlight=built#print\n",
    "https://docs.python.org/3/tutorial/controlflow.html#for-statements"
   ]
  },
  {
   "cell_type": "code",
   "execution_count": 5,
   "id": "73fd1d14",
   "metadata": {},
   "outputs": [],
   "source": [
    "import random\n",
    "\n",
    "# Сгенерируем случайные данные\n",
    "# Выполни этот код, чтобы получить готовый список с данными датчика\n",
    "depth_data = [1000] # Базовая глубина\n",
    "coef1 = random.randint(-20, 0)\n",
    "coef2 = random.randint(0, 20)\n",
    "depth_data.extend(random.randint(coef1, coef2) for _ in range(1000))\n",
    "for i, depth in enumerate(depth_data[1:], 1):\n",
    "    depth_data[i] = depth_data[i-1] + depth\n",
    "    \n",
    "increases = 0\n",
    "decreases = 0"
   ]
  },
  {
   "cell_type": "code",
   "execution_count": 6,
   "id": "acb203f7",
   "metadata": {},
   "outputs": [],
   "source": [
    "# Тут решение"
   ]
  }
 ],
 "metadata": {
  "kernelspec": {
   "display_name": "Python 3 (ipykernel)",
   "language": "python",
   "name": "python3"
  },
  "language_info": {
   "codemirror_mode": {
    "name": "ipython",
    "version": 3
   },
   "file_extension": ".py",
   "mimetype": "text/x-python",
   "name": "python",
   "nbconvert_exporter": "python",
   "pygments_lexer": "ipython3",
   "version": "3.9.13"
  }
 },
 "nbformat": 4,
 "nbformat_minor": 5
}
