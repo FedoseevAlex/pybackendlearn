{
 "cells": [
  {
   "cell_type": "markdown",
   "id": "ccdbb39e",
   "metadata": {},
   "source": [
    "# Что такое типы данных?\n",
    "В любом языке программирования есть понятие типа данных. Мы знаем (надеюсь), что компьютеры оперируют числами да еще и в двоичном представлении. Так вот людям такое повторить сложно, поэтому и были введены типы данных. Однако, это только вершина айсберга. Дальше типы начали понимать как некоторую дополнительную информацию рядом с данными (метаинформация). Эта метаинформация говорит о том, как интерпретировать лежащие рядом данные и какие у них свойства.  \n",
    "Ну а потом пришли серьезные ребята и бахнули [теорию типов](https://ru.wikipedia.org/wiki/%D0%A2%D0%B5%D0%BE%D1%80%D0%B8%D1%8F_%D1%82%D0%B8%D0%BF%D0%BE%D0%B2).  \n",
    "Теория типов это слишком сильное колдунство, углубляться в него мы не будем.  "
   ]
  },
  {
   "cell_type": "markdown",
   "id": "cbaf61fc",
   "metadata": {},
   "source": [
    "# А что за типы данных есть в python?\n",
    "В языке python есть глобальное разделение на изменяемые (mutable, мутабельные) и неизменяемые (immutable, иммутабельные) типы данных.\n",
    "Подобное разделение существует из-за того что в python все является объектом. Объекты это зверь из мира объектно ориентированного программирования. Они представляют собой набор данных для которого определены какие-то действия. Возникает вопрос: окей объекты это из ООП, а причем объекты к типам то? Так вот, так как все объект, то у нас может быть 2 (возможно больше) основных способа работать с объектами.\n",
    "1. Можно менять объекты in-place (на месте), то есть прям брать и заменять данные, хранящиеся в объекте\n",
    "2. Можно создать новый объект с новыми нужными данными\n",
    "\n",
    "Так вооот. Отсюда и следует разделение на изменяемые и неизменяемые объекты.\n",
    "Первый тип стали звать изменяемыми, а второй неизменяемыми.\n",
    "Резюмируя, есть два основных вида типов данных в python: изменяемые и неизменяемые.\n",
    "Дальше поподробнее посмотрим на эти виды."
   ]
  },
  {
   "cell_type": "markdown",
   "id": "b5f98385",
   "metadata": {},
   "source": [
    "У всех (?) типов данных есть методы. Метод -- это некая операция/действие, которое ассоциировано (прикреплено к) с этим типом данных."
   ]
  },
  {
   "cell_type": "markdown",
   "id": "906af312",
   "metadata": {},
   "source": [
    "# Неизменяемые типы данных\n",
    "К этому виду относятся типы:\n",
    "- int\n",
    "- float\n",
    "- bool\n",
    "- string\n",
    "- tuple\n",
    "- frozenset (рассмотрим ниже вместе с set)"
   ]
  },
  {
   "cell_type": "markdown",
   "id": "1f3048e6",
   "metadata": {},
   "source": [
    "## Тип данных int\n",
    "Целочисленный тип данных. Наверное самый распространенный тип данных среди всех языков программирования.  \n",
    "Ниже посмотрим на примеры того, как int выглядит:"
   ]
  },
  {
   "cell_type": "code",
   "execution_count": 14,
   "id": "62979bd2",
   "metadata": {},
   "outputs": [
    {
     "name": "stdout",
     "output_type": "stream",
     "text": [
      "100\n",
      "-494\n"
     ]
    }
   ],
   "source": [
    "# Можно просто писать число положительное или отрицательное\n",
    "x = 100\n",
    "print(x)\n",
    "x = -494\n",
    "print(x)"
   ]
  },
  {
   "cell_type": "code",
   "execution_count": 7,
   "id": "ab779b73",
   "metadata": {},
   "outputs": [
    {
     "name": "stdout",
     "output_type": "stream",
     "text": [
      "1000000\n"
     ]
    }
   ],
   "source": [
    "# Можно подстрочниками отделять друг от друга части числа\n",
    "x = 1_000_000\n",
    "print(x)"
   ]
  },
  {
   "cell_type": "code",
   "execution_count": 8,
   "id": "e4c44175",
   "metadata": {},
   "outputs": [
    {
     "name": "stdout",
     "output_type": "stream",
     "text": [
      "100\n"
     ]
    }
   ],
   "source": [
    "# Также есть возможность создавать числа через специальную встроенную функцию int()\n",
    "x = int(100)\n",
    "print(x)"
   ]
  },
  {
   "cell_type": "code",
   "execution_count": 9,
   "id": "e6fc48b3",
   "metadata": {},
   "outputs": [
    {
     "name": "stdout",
     "output_type": "stream",
     "text": [
      "1000\n"
     ]
    }
   ],
   "source": [
    "# Из строки тоже можно создать число\n",
    "x = int(\"1000\")\n",
    "print(x)"
   ]
  },
  {
   "cell_type": "code",
   "execution_count": 13,
   "id": "297d0dc0",
   "metadata": {},
   "outputs": [
    {
     "name": "stdout",
     "output_type": "stream",
     "text": [
      "170\n",
      "244838818564862\n"
     ]
    }
   ],
   "source": [
    "# Функции int можно передать еще аргумент с основанием системы счисления\n",
    "x = int(\"10101010\", 2)\n",
    "print(x)\n",
    "x = int(\"0xdeadfacecafe\", 16)\n",
    "print(x)"
   ]
  },
  {
   "cell_type": "markdown",
   "id": "54699820",
   "metadata": {},
   "source": [
    "Посмотрим теперь методы для типа int."
   ]
  },
  {
   "cell_type": "code",
   "execution_count": 1,
   "id": "79f4edef",
   "metadata": {},
   "outputs": [
    {
     "data": {
      "text/plain": [
       "['__abs__',\n",
       " '__add__',\n",
       " '__and__',\n",
       " '__bool__',\n",
       " '__ceil__',\n",
       " '__class__',\n",
       " '__delattr__',\n",
       " '__dir__',\n",
       " '__divmod__',\n",
       " '__doc__',\n",
       " '__eq__',\n",
       " '__float__',\n",
       " '__floor__',\n",
       " '__floordiv__',\n",
       " '__format__',\n",
       " '__ge__',\n",
       " '__getattribute__',\n",
       " '__getnewargs__',\n",
       " '__gt__',\n",
       " '__hash__',\n",
       " '__index__',\n",
       " '__init__',\n",
       " '__init_subclass__',\n",
       " '__int__',\n",
       " '__invert__',\n",
       " '__le__',\n",
       " '__lshift__',\n",
       " '__lt__',\n",
       " '__mod__',\n",
       " '__mul__',\n",
       " '__ne__',\n",
       " '__neg__',\n",
       " '__new__',\n",
       " '__or__',\n",
       " '__pos__',\n",
       " '__pow__',\n",
       " '__radd__',\n",
       " '__rand__',\n",
       " '__rdivmod__',\n",
       " '__reduce__',\n",
       " '__reduce_ex__',\n",
       " '__repr__',\n",
       " '__rfloordiv__',\n",
       " '__rlshift__',\n",
       " '__rmod__',\n",
       " '__rmul__',\n",
       " '__ror__',\n",
       " '__round__',\n",
       " '__rpow__',\n",
       " '__rrshift__',\n",
       " '__rshift__',\n",
       " '__rsub__',\n",
       " '__rtruediv__',\n",
       " '__rxor__',\n",
       " '__setattr__',\n",
       " '__sizeof__',\n",
       " '__str__',\n",
       " '__sub__',\n",
       " '__subclasshook__',\n",
       " '__truediv__',\n",
       " '__trunc__',\n",
       " '__xor__',\n",
       " 'as_integer_ratio',\n",
       " 'bit_length',\n",
       " 'conjugate',\n",
       " 'denominator',\n",
       " 'from_bytes',\n",
       " 'imag',\n",
       " 'numerator',\n",
       " 'real',\n",
       " 'to_bytes']"
      ]
     },
     "execution_count": 1,
     "metadata": {},
     "output_type": "execute_result"
    }
   ],
   "source": [
    "dir(int) # Функция dir позволяет посмотреть какие методы определены для типа"
   ]
  },
  {
   "cell_type": "code",
   "execution_count": 3,
   "id": "3c17664b",
   "metadata": {},
   "outputs": [
    {
     "name": "stdout",
     "output_type": "stream",
     "text": [
      "['as_integer_ratio', 'bit_length', 'conjugate', 'denominator', 'from_bytes', 'imag', 'numerator', 'real', 'to_bytes']\n"
     ]
    }
   ],
   "source": [
    "print([method for method in dir(int) if not method.startswith(\"__\")])\n",
    "# Пока на данном этапе будем игнорировать методы, которые начинаются с \"__\"\n",
    "# Код выше дает очищенный от служебных методов вывод"
   ]
  },
  {
   "cell_type": "markdown",
   "id": "76ff12a0",
   "metadata": {},
   "source": [
    "Каждый из этих методов описан в [документации](https://docs.python.org/3/library/stdtypes.html#additional-methods-on-integer-types) ниже посмотрим  пару из них."
   ]
  },
  {
   "cell_type": "code",
   "execution_count": 6,
   "id": "cb219487",
   "metadata": {},
   "outputs": [
    {
     "name": "stdout",
     "output_type": "stream",
     "text": [
      "8\n"
     ]
    }
   ],
   "source": [
    "# Этот метод показывает сколько бит занимает данное число. Возьмем число 255.\n",
    "# Это число должно занимать 8 бит.\n",
    "x = 255\n",
    "print(x.bit_length())"
   ]
  },
  {
   "cell_type": "code",
   "execution_count": 20,
   "id": "628b1845",
   "metadata": {},
   "outputs": [
    {
     "name": "stdout",
     "output_type": "stream",
     "text": [
      "b'\\x03\\xe8'\n"
     ]
    }
   ],
   "source": [
    "# Этот метод переводит указанное число в байты. Возьмем 1000\n",
    "# Точно известно, что это число должно поместиться в 2 байта. Параметр 'big' указывает в каком порядке нужно распологать байты.\n",
    "x = 1000\n",
    "print(x.to_bytes(2, 'big'))"
   ]
  },
  {
   "cell_type": "code",
   "execution_count": 21,
   "id": "28b83623",
   "metadata": {},
   "outputs": [
    {
     "name": "stdout",
     "output_type": "stream",
     "text": [
      "Help on method_descriptor:\n",
      "\n",
      "to_bytes(self, /, length, byteorder, *, signed=False)\n",
      "    Return an array of bytes representing an integer.\n",
      "    \n",
      "    length\n",
      "      Length of bytes object to use.  An OverflowError is raised if the\n",
      "      integer is not representable with the given number of bytes.\n",
      "    byteorder\n",
      "      The byte order used to represent the integer.  If byteorder is 'big',\n",
      "      the most significant byte is at the beginning of the byte array.  If\n",
      "      byteorder is 'little', the most significant byte is at the end of the\n",
      "      byte array.  To request the native byte order of the host system, use\n",
      "      `sys.byteorder' as the byte order value.\n",
      "    signed\n",
      "      Determines whether two's complement is used to represent the integer.\n",
      "      If signed is False and a negative integer is given, an OverflowError\n",
      "      is raised.\n",
      "\n"
     ]
    }
   ],
   "source": [
    "help(int.to_bytes)"
   ]
  },
  {
   "cell_type": "markdown",
   "id": "66966d2b",
   "metadata": {},
   "source": [
    "## Тип данных float\n",
    "Это тип чисел с плавающей точкой. Тоже достаточно распространенный тип."
   ]
  },
  {
   "cell_type": "code",
   "execution_count": 17,
   "id": "56aa7e7b",
   "metadata": {},
   "outputs": [
    {
     "name": "stdout",
     "output_type": "stream",
     "text": [
      "3.1415\n",
      "-1.0123\n"
     ]
    }
   ],
   "source": [
    "# Стандартная запись числа с плавающей точкой. \n",
    "# Целая часть отделяется точкой от мантиссы.\n",
    "x = 3.1415\n",
    "print(x)\n",
    "x = -1.0123\n",
    "print(x)"
   ]
  },
  {
   "cell_type": "code",
   "execution_count": 18,
   "id": "21644949",
   "metadata": {},
   "outputs": [
    {
     "name": "stdout",
     "output_type": "stream",
     "text": [
      "1.0\n",
      "4.03123\n",
      "-1.235\n"
     ]
    }
   ],
   "source": [
    "# Также можно создавать такие числа с помощью функции float:\n",
    "# из целого числа\n",
    "x = float(1)\n",
    "print(x)\n",
    "# из числа с плавающей точкой\n",
    "x = float(4.03123)\n",
    "print(x)\n",
    "# из строки\n",
    "x = float(\"-1.235\")\n",
    "print(x)"
   ]
  },
  {
   "cell_type": "code",
   "execution_count": 22,
   "id": "0ba22473",
   "metadata": {},
   "outputs": [
    {
     "name": "stdout",
     "output_type": "stream",
     "text": [
      "inf\n",
      "False\n",
      "-inf\n",
      "False\n"
     ]
    }
   ],
   "source": [
    "# Интересная особенность типа float, что можно создать числа бесконечность и -бесконечность.\n",
    "x = float(\"inf\")\n",
    "print(x)\n",
    "print(234234233421341234124523452345 > float(\"inf\"))\n",
    "\n",
    "\n",
    "x = float(\"-inf\")\n",
    "print(x)\n",
    "print(-234234233421341234124523452345 < float(\"-inf\"))\n",
    "\n",
    "# Эти \"числа\" ведут себя как бесконечности, что бы мы с ними не сравнили, они будут больше (меньше если -inf)"
   ]
  },
  {
   "cell_type": "code",
   "execution_count": 33,
   "id": "0ec7cdc3",
   "metadata": {},
   "outputs": [
    {
     "name": "stdout",
     "output_type": "stream",
     "text": [
      "nan\n",
      "nan\n",
      "nan\n",
      "nan\n",
      "False\n",
      "False\n",
      "False\n"
     ]
    }
   ],
   "source": [
    "# Еще есть специальное \"число\" которое не число.\n",
    "x = float(\"NaN\") # NaN - Not a Number\n",
    "print(x)\n",
    "\n",
    "# Такие \"числа\" нельзя ни с чем сравнить и нельзя выполнять математические операции. Получится опять NaN.\n",
    "print(x + 1)\n",
    "print(x - 1)\n",
    "print(x / 2)\n",
    "\n",
    "print(x > 10)\n",
    "print(x < 10)\n",
    "print(x == 10)"
   ]
  },
  {
   "cell_type": "markdown",
   "id": "18236d06",
   "metadata": {},
   "source": [
    "## Тип данных bool\n",
    "Булев тип данных. Содержит только два значения True и False (только так, с большой буквы).\n",
    "Этот тип используется для построения булевой логики. Очень часто используется совместно с \"and\", \"or\" и \"not\".\n",
    "\n",
    "Интересной особенностью, является то, что в этот тип данных можно превратить абсолютно любой объект.\n",
    "Для преобразования объектов в bool используется специальный алгоритм https://docs.python.org/3/library/stdtypes.html#truth."
   ]
  },
  {
   "cell_type": "code",
   "execution_count": null,
   "id": "00f879aa",
   "metadata": {},
   "outputs": [],
   "source": [
    "# Можно использовать напрямую\n",
    "x = True\n",
    "x = False"
   ]
  },
  {
   "cell_type": "code",
   "execution_count": 34,
   "id": "50a01ae6",
   "metadata": {},
   "outputs": [],
   "source": [
    "# Можно использовать специальную функцию bool()\n",
    "x = bool(True)\n",
    "x = bool(False)\n",
    "x = bool(\"False\")\n",
    "x = bool(\"True\")"
   ]
  },
  {
   "cell_type": "code",
   "execution_count": 40,
   "id": "de5e609f",
   "metadata": {},
   "outputs": [
    {
     "name": "stdout",
     "output_type": "stream",
     "text": [
      "x = bool(1) True\n",
      "x = bool(0) False\n",
      "x = bool(-1) True\n"
     ]
    }
   ],
   "source": [
    "# У этого типа есть еще одна крутая особенность. В этот тип можно превратить почти любой объект.\n",
    "x = bool(1)\n",
    "print(\"x = bool(1)\", x)\n",
    "\n",
    "x = bool(0)\n",
    "print(\"x = bool(0)\", x)\n",
    "\n",
    "x = bool(-1)\n",
    "print(\"x = bool(-1)\", x)"
   ]
  },
  {
   "cell_type": "markdown",
   "id": "3d5993ba",
   "metadata": {},
   "source": [
    "## Тип данных string\n",
    "Строковый тип данных. Может хранить буквы, слова, предложения.\n",
    "Чтобы в коде создавать строки нужно напечатать кавычки и внутри них содержание строки.  \n",
    "https://docs.python.org/3/library/stdtypes.html#textseq\n",
    "\n",
    "Для этого типа в языке добавлено достаточно много операций над ним.  \n",
    "https://docs.python.org/3/library/stdtypes.html#string-methods"
   ]
  },
  {
   "cell_type": "code",
   "execution_count": 41,
   "id": "42746dec",
   "metadata": {},
   "outputs": [
    {
     "name": "stdout",
     "output_type": "stream",
     "text": [
      "Hello world!!!!\n"
     ]
    }
   ],
   "source": [
    "x = \"Hello world!!!!\"\n",
    "print(x)"
   ]
  },
  {
   "cell_type": "markdown",
   "id": "f26f21d0",
   "metadata": {},
   "source": [
    "Важно отметить, что любой тип можно преобразовать в строку с помощью функции `str()`:"
   ]
  },
  {
   "cell_type": "code",
   "execution_count": 45,
   "id": "853b0e97",
   "metadata": {},
   "outputs": [
    {
     "name": "stdout",
     "output_type": "stream",
     "text": [
      "1\n",
      "<class 'str'>\n",
      "1.12312\n",
      "<class 'str'>\n"
     ]
    }
   ],
   "source": [
    "x = str(1)\n",
    "print(x)\n",
    "print(type(x))\n",
    "\n",
    "x = str(1.12312)\n",
    "print(x)\n",
    "print(type(x))"
   ]
  },
  {
   "cell_type": "markdown",
   "id": "de16be88",
   "metadata": {},
   "source": [
    "Посмотрим теперь на методы, которые определены для типа `str`.  \n",
    "В выводе есть методы которые начинаются на `__` - это служебные методы, их пока будем игнорировать."
   ]
  },
  {
   "cell_type": "code",
   "execution_count": 56,
   "id": "297d125a",
   "metadata": {},
   "outputs": [
    {
     "data": {
      "text/plain": [
       "['__add__',\n",
       " '__class__',\n",
       " '__contains__',\n",
       " '__delattr__',\n",
       " '__dir__',\n",
       " '__doc__',\n",
       " '__eq__',\n",
       " '__format__',\n",
       " '__ge__',\n",
       " '__getattribute__',\n",
       " '__getitem__',\n",
       " '__getnewargs__',\n",
       " '__gt__',\n",
       " '__hash__',\n",
       " '__init__',\n",
       " '__init_subclass__',\n",
       " '__iter__',\n",
       " '__le__',\n",
       " '__len__',\n",
       " '__lt__',\n",
       " '__mod__',\n",
       " '__mul__',\n",
       " '__ne__',\n",
       " '__new__',\n",
       " '__reduce__',\n",
       " '__reduce_ex__',\n",
       " '__repr__',\n",
       " '__rmod__',\n",
       " '__rmul__',\n",
       " '__setattr__',\n",
       " '__sizeof__',\n",
       " '__str__',\n",
       " '__subclasshook__',\n",
       " 'capitalize',\n",
       " 'casefold',\n",
       " 'center',\n",
       " 'count',\n",
       " 'encode',\n",
       " 'endswith',\n",
       " 'expandtabs',\n",
       " 'find',\n",
       " 'format',\n",
       " 'format_map',\n",
       " 'index',\n",
       " 'isalnum',\n",
       " 'isalpha',\n",
       " 'isascii',\n",
       " 'isdecimal',\n",
       " 'isdigit',\n",
       " 'isidentifier',\n",
       " 'islower',\n",
       " 'isnumeric',\n",
       " 'isprintable',\n",
       " 'isspace',\n",
       " 'istitle',\n",
       " 'isupper',\n",
       " 'join',\n",
       " 'ljust',\n",
       " 'lower',\n",
       " 'lstrip',\n",
       " 'maketrans',\n",
       " 'partition',\n",
       " 'removeprefix',\n",
       " 'removesuffix',\n",
       " 'replace',\n",
       " 'rfind',\n",
       " 'rindex',\n",
       " 'rjust',\n",
       " 'rpartition',\n",
       " 'rsplit',\n",
       " 'rstrip',\n",
       " 'split',\n",
       " 'splitlines',\n",
       " 'startswith',\n",
       " 'strip',\n",
       " 'swapcase',\n",
       " 'title',\n",
       " 'translate',\n",
       " 'upper',\n",
       " 'zfill']"
      ]
     },
     "execution_count": 56,
     "metadata": {},
     "output_type": "execute_result"
    }
   ],
   "source": [
    "dir(str) # Функция dir позволяет посмотреть какие методы определены для типа"
   ]
  },
  {
   "cell_type": "markdown",
   "id": "99bb8c18",
   "metadata": {},
   "source": [
    "Многовато вывода получилось. Поэтому в следующей строке код, который убирает служебные методы."
   ]
  },
  {
   "cell_type": "code",
   "execution_count": 57,
   "id": "9ebd50f4",
   "metadata": {},
   "outputs": [
    {
     "name": "stdout",
     "output_type": "stream",
     "text": [
      "['capitalize', 'casefold', 'center', 'count', 'encode', 'endswith', 'expandtabs', 'find', 'format', 'format_map', 'index', 'isalnum', 'isalpha', 'isascii', 'isdecimal', 'isdigit', 'isidentifier', 'islower', 'isnumeric', 'isprintable', 'isspace', 'istitle', 'isupper', 'join', 'ljust', 'lower', 'lstrip', 'maketrans', 'partition', 'removeprefix', 'removesuffix', 'replace', 'rfind', 'rindex', 'rjust', 'rpartition', 'rsplit', 'rstrip', 'split', 'splitlines', 'startswith', 'strip', 'swapcase', 'title', 'translate', 'upper', 'zfill']\n"
     ]
    }
   ],
   "source": [
    "print([method for method in dir(str) if not method.startswith(\"__\")])\n",
    "# Пока на данном этапе будем игнорировать методы, которые начинаются с \"__\"\n",
    "# Код выше дает очищенный от служебных методов вывод"
   ]
  },
  {
   "cell_type": "markdown",
   "id": "a708f2ea",
   "metadata": {},
   "source": [
    "Каждый из этих методов описан в [документации](https://docs.python.org/3/library/stdtypes.html#string-methods) ниже посмотрим  пару из них, чтобы уловить суть."
   ]
  },
  {
   "cell_type": "code",
   "execution_count": 59,
   "id": "f03f2e43",
   "metadata": {},
   "outputs": [
    {
     "name": "stdout",
     "output_type": "stream",
     "text": [
      "Vasya\n"
     ]
    }
   ],
   "source": [
    "name = \"vasya\"\n",
    "# О, нет. Имя Вася написали с маленькой буквы. Тут нам пригодится метод .capitalize()\n",
    "print(name.capitalize())\n",
    "# Вот теперь порядок"
   ]
  },
  {
   "cell_type": "code",
   "execution_count": 67,
   "id": "8b28d9c9",
   "metadata": {},
   "outputs": [
    {
     "name": "stdout",
     "output_type": "stream",
     "text": [
      "*****************Vasya******************\n"
     ]
    }
   ],
   "source": [
    "# Теперь хотим украсить имя Васи, попробуем метод .center(width: int, placeholder: str)\n",
    "print(\"Vasya\".center(40, \"*\"))\n",
    "# Красивое"
   ]
  },
  {
   "cell_type": "markdown",
   "id": "5b10ae8f",
   "metadata": {},
   "source": [
    "У строк еще много интересных методов. Зачастую этих встроенных возможностей достаточно чтобы закрывать 90% потребностей при работе со строками."
   ]
  },
  {
   "cell_type": "markdown",
   "id": "26f40713",
   "metadata": {},
   "source": [
    "## Тип данных tuple\n",
    "Тьюпл или кортеж. Это первый тип, который представляет собой последовательность.  \n",
    "Обращаю внимание, что этот тип неизменяемый!!  \n",
    "\n",
    "https://docs.python.org/3/library/stdtypes.html#typesseq"
   ]
  },
  {
   "cell_type": "code",
   "execution_count": 72,
   "id": "949e1630",
   "metadata": {},
   "outputs": [
    {
     "name": "stdout",
     "output_type": "stream",
     "text": [
      "(1, 2, 'wow')\n",
      "<class 'tuple'>\n",
      "<class 'int'>\n"
     ]
    }
   ],
   "source": [
    "# Кортеж можно создать с помощью круглых скобок\n",
    "x = (1, 2, 'wow')\n",
    "print(x)\n",
    "\n",
    "# Кортеж из одного элемента должен содержать запятую внутри скобок или интерпретатор не поймет, что задумывался именно кортеж.\n",
    "x = (1,)\n",
    "print(type(x))\n",
    "x = (1)\n",
    "print(type(x))"
   ]
  },
  {
   "cell_type": "code",
   "execution_count": 76,
   "id": "079f8231",
   "metadata": {},
   "outputs": [
    {
     "name": "stdout",
     "output_type": "stream",
     "text": [
      "('w', 'o', 'w')\n",
      "(1, 3, 3, 4, 5, 6)\n"
     ]
    }
   ],
   "source": [
    "# Также кортеж можно создать с помощью встроенной функции tuple()\n",
    "x = tuple(\"wow\")\n",
    "print(x)\n",
    "\n",
    "x = tuple([1,3,3,4,5,6])\n",
    "print(x)"
   ]
  },
  {
   "cell_type": "markdown",
   "id": "0ecd3f4f",
   "metadata": {},
   "source": [
    "# Изменяемые типы данных\n",
    "К этому виду относятся типы:\n",
    "- list\n",
    "- dict \n",
    "- set "
   ]
  },
  {
   "cell_type": "markdown",
   "id": "a82772a8",
   "metadata": {},
   "source": [
    "## Тип данных list\n",
    "Это тип данных, который представляет из себя список. Обычно так и называют: список или просто лист.\n"
   ]
  },
  {
   "cell_type": "code",
   "execution_count": 52,
   "id": "ce06b9f0",
   "metadata": {},
   "outputs": [
    {
     "name": "stdout",
     "output_type": "stream",
     "text": [
      "[]\n",
      "[]\n"
     ]
    }
   ],
   "source": [
    "# Список можно создавать с помощью квадратных скобок или через функцию list()\n",
    "x = []\n",
    "print(x)\n",
    "x = list()\n",
    "print(x)"
   ]
  },
  {
   "cell_type": "code",
   "execution_count": null,
   "id": "cb1ff194",
   "metadata": {},
   "outputs": [],
   "source": [
    "# Списки тоже можно создавать из других типов\n",
    "x = list(\"Hello list\")\n",
    "print(x)\n",
    "\n"
   ]
  },
  {
   "cell_type": "markdown",
   "id": "587dd241",
   "metadata": {},
   "source": [
    "## Тип данных dict\n",
    "Сложное название: ассоциативный массив.\n",
    "Также известен как словарь или дикт."
   ]
  },
  {
   "cell_type": "code",
   "execution_count": null,
   "id": "fae0a6aa",
   "metadata": {},
   "outputs": [],
   "source": []
  },
  {
   "cell_type": "markdown",
   "id": "a2789df7",
   "metadata": {},
   "source": [
    "## Тип данных set + frozenset\n",
    "Эти два типа представляют собой множества (прям в математическом смысле). \n",
    "В них все элементы уникальны.  \n",
    "Для этих типов доступны все основные операции над множествами:\n",
    "- Пересечение\n",
    "- Сложение\n",
    "- Разница\n",
    "- и другие операции над множествами)\n",
    "\n",
    "Спрашивается, а какая разница между set и frozenset?  \n",
    "set - изменяемый.  \n",
    "frozenset - неизменяемый.  \n",
    "\n",
    "В остальном они идентичны.\n",
    "Дока по методам: https://docs.python.org/3/library/stdtypes.html#set"
   ]
  },
  {
   "cell_type": "code",
   "execution_count": 33,
   "id": "1e70c904",
   "metadata": {},
   "outputs": [
    {
     "name": "stdout",
     "output_type": "stream",
     "text": [
      "{1, 2, 'wow'}\n",
      "set()\n",
      "{2}\n",
      "{2}\n"
     ]
    }
   ],
   "source": [
    "# Множества можно создать при помощи перечисления элементов в фигурных скобках\n",
    "x = {1, 2, 'wow'}\n",
    "print(x)\n",
    "\n",
    "# Пустое множество можно создать только с помощью специальной функции set\n",
    "x = set()\n",
    "print(x)\n",
    "\n",
    "# Множество из одного элемента можно создать просто через фигурные скобки или же с запятой (по аналогии с кортежами).\n",
    "x = {2}\n",
    "print(x)\n",
    "x = {2,}\n",
    "print(x)"
   ]
  },
  {
   "cell_type": "markdown",
   "id": "12031c0a",
   "metadata": {},
   "source": [
    "Множество можно сделать и из многих других типов."
   ]
  },
  {
   "cell_type": "code",
   "execution_count": 31,
   "id": "e4f81bcc",
   "metadata": {},
   "outputs": [
    {
     "name": "stdout",
     "output_type": "stream",
     "text": [
      "{'s', ' ', 'o', 'H', 'e', 't', 'l'}\n"
     ]
    }
   ],
   "source": [
    "# Из строки\n",
    "x = set(\"Hello sets\")\n",
    "print(x)\n",
    "# Почему получился такой результат?"
   ]
  },
  {
   "cell_type": "code",
   "execution_count": 32,
   "id": "60aa0959",
   "metadata": {},
   "outputs": [
    {
     "name": "stdout",
     "output_type": "stream",
     "text": [
      "{1, 2, 3, 4, 5}\n"
     ]
    }
   ],
   "source": [
    "# Из списка\n",
    "x = set([1,2,3,4,4,4,4,4,4,4,4,4,4,5,5,5])\n",
    "print(x)"
   ]
  },
  {
   "cell_type": "markdown",
   "id": "0452261a",
   "metadata": {},
   "source": [
    "А теперь попробуем и frozenset.  \n",
    "С точки зрения использования frozenset не удастся создать просто через фигурные скобки.  \n",
    "Этот тип создается только с использованием функции frozenset()."
   ]
  },
  {
   "cell_type": "code",
   "execution_count": 40,
   "id": "bfeae901",
   "metadata": {},
   "outputs": [
    {
     "name": "stdout",
     "output_type": "stream",
     "text": [
      "frozenset()\n",
      "frozenset({1, 2, 3, 4})\n",
      "frozenset({'t', 's', ' ', 'o', 'n', 'r', 'H', 'z', 'e', 'f', 'l'})\n"
     ]
    }
   ],
   "source": [
    "# Пустое множество\n",
    "x = frozenset()\n",
    "print(x)\n",
    "\n",
    "# Множество из списка\n",
    "x = frozenset([1,2,3,4,4,4,4,4,4,4,4,4])\n",
    "print(x)\n",
    "\n",
    "# Множество из строки\n",
    "x = frozenset(\"Hello frozenset\")\n",
    "print(x)"
   ]
  },
  {
   "cell_type": "markdown",
   "id": "29c237ea",
   "metadata": {},
   "source": [
    "Посмотрим теперь на методы, которые есть у типов set и frozenset.  \n",
    "Начнем с set."
   ]
  },
  {
   "cell_type": "code",
   "execution_count": 41,
   "id": "21968838",
   "metadata": {},
   "outputs": [
    {
     "data": {
      "text/plain": [
       "['__and__',\n",
       " '__class__',\n",
       " '__class_getitem__',\n",
       " '__contains__',\n",
       " '__delattr__',\n",
       " '__dir__',\n",
       " '__doc__',\n",
       " '__eq__',\n",
       " '__format__',\n",
       " '__ge__',\n",
       " '__getattribute__',\n",
       " '__gt__',\n",
       " '__hash__',\n",
       " '__iand__',\n",
       " '__init__',\n",
       " '__init_subclass__',\n",
       " '__ior__',\n",
       " '__isub__',\n",
       " '__iter__',\n",
       " '__ixor__',\n",
       " '__le__',\n",
       " '__len__',\n",
       " '__lt__',\n",
       " '__ne__',\n",
       " '__new__',\n",
       " '__or__',\n",
       " '__rand__',\n",
       " '__reduce__',\n",
       " '__reduce_ex__',\n",
       " '__repr__',\n",
       " '__ror__',\n",
       " '__rsub__',\n",
       " '__rxor__',\n",
       " '__setattr__',\n",
       " '__sizeof__',\n",
       " '__str__',\n",
       " '__sub__',\n",
       " '__subclasshook__',\n",
       " '__xor__',\n",
       " 'add',\n",
       " 'clear',\n",
       " 'copy',\n",
       " 'difference',\n",
       " 'difference_update',\n",
       " 'discard',\n",
       " 'intersection',\n",
       " 'intersection_update',\n",
       " 'isdisjoint',\n",
       " 'issubset',\n",
       " 'issuperset',\n",
       " 'pop',\n",
       " 'remove',\n",
       " 'symmetric_difference',\n",
       " 'symmetric_difference_update',\n",
       " 'union',\n",
       " 'update']"
      ]
     },
     "execution_count": 41,
     "metadata": {},
     "output_type": "execute_result"
    }
   ],
   "source": [
    "dir(set)"
   ]
  },
  {
   "cell_type": "code",
   "execution_count": 42,
   "id": "8f2c46b3",
   "metadata": {},
   "outputs": [
    {
     "name": "stdout",
     "output_type": "stream",
     "text": [
      "['add', 'clear', 'copy', 'difference', 'difference_update', 'discard', 'intersection', 'intersection_update', 'isdisjoint', 'issubset', 'issuperset', 'pop', 'remove', 'symmetric_difference', 'symmetric_difference_update', 'union', 'update']\n"
     ]
    }
   ],
   "source": [
    "print([method for method in dir(set) if not method.startswith(\"__\")])\n",
    "# Пока на данном этапе будем игнорировать методы, которые начинаются с \"__\"\n",
    "# Код выше дает очищенный от служебных методов вывод"
   ]
  },
  {
   "cell_type": "markdown",
   "id": "e4cab95b",
   "metadata": {},
   "source": [
    "Посмотрим на пару методов у set в действии."
   ]
  },
  {
   "cell_type": "code",
   "execution_count": 44,
   "id": "b0a2410d",
   "metadata": {},
   "outputs": [
    {
     "name": "stdout",
     "output_type": "stream",
     "text": [
      "{1, 2, 3, 4, 5, 6, 7}\n",
      "None\n"
     ]
    }
   ],
   "source": [
    "x = set([1,2,3,4,5,6,7,7,7,7,7,7,7,7])\n",
    "print(x)"
   ]
  },
  {
   "cell_type": "code",
   "execution_count": 45,
   "id": "082a3649",
   "metadata": {},
   "outputs": [
    {
     "name": "stdout",
     "output_type": "stream",
     "text": [
      "{1, 2, 3, 4, 5, 6, 7}\n",
      "{1, 2, 3, 4, 5, 6, 7}\n"
     ]
    }
   ],
   "source": [
    "# Метод add добавляет элемент во множество\n",
    "print(x)\n",
    "x.add(7)\n",
    "print(x)\n",
    "# ИИИ мы не увидим разницы \n",
    "# Все потому что в нашем множестве уже есть число 7."
   ]
  },
  {
   "cell_type": "code",
   "execution_count": 47,
   "id": "2bae519b",
   "metadata": {},
   "outputs": [
    {
     "name": "stdout",
     "output_type": "stream",
     "text": [
      "{2, 3, 4, 5, 6, 7}\n",
      "{3, 4, 5, 6, 7}\n",
      "{4, 5, 6, 7}\n",
      "{5, 6, 7}\n",
      "{6, 7}\n"
     ]
    }
   ],
   "source": [
    "# Метод pop удаляет первый элемент из множества \n",
    "print(x)\n",
    "x.pop()\n",
    "print(x)\n",
    "x.pop()\n",
    "print(x)\n",
    "x.pop()\n",
    "print(x)\n",
    "x.pop()\n",
    "print(x)"
   ]
  },
  {
   "cell_type": "markdown",
   "id": "47b40fd3",
   "metadata": {},
   "source": [
    "А теперь предлагаю проделать странное.   \n",
    "Можем попробовать использовать множества, чтобы найти методы которых нет у frozenset по сравнению с set."
   ]
  },
  {
   "cell_type": "code",
   "execution_count": 51,
   "id": "419d6cd7",
   "metadata": {},
   "outputs": [
    {
     "name": "stdout",
     "output_type": "stream",
     "text": [
      "{'intersection_update', 'add', 'difference_update', 'update', 'discard', 'remove', 'symmetric_difference_update', 'pop', 'clear'}\n"
     ]
    }
   ],
   "source": [
    "# Соберет методы для set и frozenset\n",
    "set_methods = set([method for method in dir(set) if not method.startswith(\"__\")])\n",
    "frozenset_methods = set([method for method in dir(frozenset) if not method.startswith(\"__\")])\n",
    "\n",
    "# А теперь посмотрим разницу между методами set и frozenset.\n",
    "print(set_methods - frozenset_methods)"
   ]
  },
  {
   "cell_type": "markdown",
   "id": "25f33cb8",
   "metadata": {},
   "source": [
    "Исходя из названий методов, видно, что у frozenset отсутствуют методы изменяющие набор элементов во множестве.  "
   ]
  },
  {
   "cell_type": "markdown",
   "id": "50bc258f",
   "metadata": {},
   "source": [
    "# Дополнительные материалы\n",
    "Почему типы данных важны: https://amplitude.com/blog/data-types#:~:text=Data%20type%20is%20an%20attribute,each%20property%20is%20as%20expected.\n",
    "\n",
    "Доп про типы данных: https://www.guru99.com/mutable-and-immutable-in-python.html"
   ]
  },
  {
   "cell_type": "code",
   "execution_count": null,
   "id": "a0b3c40e",
   "metadata": {},
   "outputs": [],
   "source": []
  }
 ],
 "metadata": {
  "kernelspec": {
   "display_name": "Python 3 (ipykernel)",
   "language": "python",
   "name": "python3"
  },
  "language_info": {
   "codemirror_mode": {
    "name": "ipython",
    "version": 3
   },
   "file_extension": ".py",
   "mimetype": "text/x-python",
   "name": "python",
   "nbconvert_exporter": "python",
   "pygments_lexer": "ipython3",
   "version": "3.9.13"
  }
 },
 "nbformat": 4,
 "nbformat_minor": 5
}
