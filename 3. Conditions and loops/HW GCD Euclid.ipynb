{
 "cells": [
  {
   "cell_type": "markdown",
   "id": "f68730e0",
   "metadata": {},
   "source": [
    "# Найдем НОД по алгоритму Евклида\n",
    "Дано два числа, например `a = 54` и `b = 24`.\n",
    "Нужно найти для них НОД с помощью алгоритма Евклида.\n",
    "Для данных чисел НОД будет равен `6`.\n",
    "\n",
    "# Links and materials\n",
    "https://docs.python.org/3/library/math.html#math.gcd  \n",
    "https://younglinux.info/algorithm/euclidean  \n",
    "https://docs.python.org/3/reference/compound_stmts.html#while  \n"
   ]
  },
  {
   "cell_type": "code",
   "execution_count": 1,
   "id": "595592d6",
   "metadata": {},
   "outputs": [],
   "source": [
    "# Тут решение\n",
    "..."
   ]
  }
 ],
 "metadata": {
  "kernelspec": {
   "display_name": "Python 3 (ipykernel)",
   "language": "python",
   "name": "python3"
  },
  "language_info": {
   "codemirror_mode": {
    "name": "ipython",
    "version": 3
   },
   "file_extension": ".py",
   "mimetype": "text/x-python",
   "name": "python",
   "nbconvert_exporter": "python",
   "pygments_lexer": "ipython3",
   "version": "3.9.13"
  }
 },
 "nbformat": 4,
 "nbformat_minor": 5
}
