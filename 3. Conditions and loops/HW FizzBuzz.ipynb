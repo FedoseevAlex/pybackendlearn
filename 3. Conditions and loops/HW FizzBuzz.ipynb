{
 "cells": [
  {
   "cell_type": "markdown",
   "id": "4eec2f26",
   "metadata": {},
   "source": [
    "# FizzBuzz\n",
    "Классика задач на программирование.  \n",
    "Нужно написать код, который пройдется по числам от 0 до 100.\n",
    "Для каждого числа нужно будет сделать следующее:  \n",
    "- Если число делится на 3, то нужно напечатать Fizz\n",
    "- Если число делится на 5, то печатаем Buzz\n",
    "- Если число делится на 3 и на 5, то печатаем FizzBuzz\n",
    "- Если число не делится ни на 3 ни на 5, то печатаем само это число\n",
    "\n",
    "# Links and materials\n",
    "https://docs.python.org/3/tutorial/controlflow.html  \n",
    "https://docs.python.org/3/tutorial/controlflow.html#the-range-function\n",
    "\n"
   ]
  },
  {
   "cell_type": "code",
   "execution_count": null,
   "id": "2fc2d0e8",
   "metadata": {},
   "outputs": [],
   "source": [
    "# Тут решение\n",
    "..."
   ]
  }
 ],
 "metadata": {
  "kernelspec": {
   "display_name": "Python 3 (ipykernel)",
   "language": "python",
   "name": "python3"
  },
  "language_info": {
   "codemirror_mode": {
    "name": "ipython",
    "version": 3
   },
   "file_extension": ".py",
   "mimetype": "text/x-python",
   "name": "python",
   "nbconvert_exporter": "python",
   "pygments_lexer": "ipython3",
   "version": "3.9.13"
  }
 },
 "nbformat": 4,
 "nbformat_minor": 5
}
