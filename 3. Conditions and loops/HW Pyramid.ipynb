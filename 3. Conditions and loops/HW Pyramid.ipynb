{
 "cells": [
  {
   "cell_type": "markdown",
   "id": "6e60badf",
   "metadata": {},
   "source": [
    "# Печатаем пирамиды"
   ]
  },
  {
   "cell_type": "markdown",
   "id": "f097ed6f",
   "metadata": {},
   "source": [
    "# Первая половина пирамиды\n",
    "Нужен код, который сможет напечетать числа в следующем виде:\n",
    "```\n",
    "1 \n",
    "1 2 \n",
    "1 2 3 \n",
    "1 2 3 4 \n",
    "1 2 3 4 5\n",
    "```\n",
    "# Links and materials\n",
    "https://docs.python.org/3/library/functions.html#print  \n",
    "https://docs.python.org/3/tutorial/controlflow.html#for-statements  \n",
    "https://docs.python.org/3/library/functions.html#func-range  "
   ]
  },
  {
   "cell_type": "code",
   "execution_count": null,
   "id": "84fb5a85",
   "metadata": {},
   "outputs": [],
   "source": [
    "# Тут код"
   ]
  },
  {
   "cell_type": "markdown",
   "id": "736842a9",
   "metadata": {},
   "source": [
    "# Вторая половина пирамиды\n",
    "А теперь попробуем напечатать такое\n",
    "```\n",
    "1 2 3 4 5\n",
    "1 2 3 4 \n",
    "1 2 3 \n",
    "1 2 \n",
    "1 \n",
    "```\n",
    "# Links and materials\n",
    "https://docs.python.org/3/library/functions.html#print  \n",
    "https://docs.python.org/3/tutorial/controlflow.html#for-statements  \n",
    "https://docs.python.org/3/library/functions.html#func-range  "
   ]
  },
  {
   "cell_type": "code",
   "execution_count": null,
   "id": "5b7f00e4",
   "metadata": {},
   "outputs": [],
   "source": [
    "# Тут код"
   ]
  },
  {
   "cell_type": "markdown",
   "id": "6e3d92c7",
   "metadata": {},
   "source": [
    "# Усложним задачу\n",
    "Печатаем пирамиду, но теперь количество уровней зависит от переданной переменной.\n",
    "И еще теперь будем печатать в двух направлениях сразу.\n",
    "Например:\n",
    "```python\n",
    "x = 7\n",
    "...\n",
    "# magic\n",
    "...\n",
    "1\n",
    "1 2\n",
    "1 2 3\n",
    "1 2 3 4\n",
    "1 2 3 4 5\n",
    "1 2 3 4 5 6\n",
    "1 2 3 4 5 6 7\n",
    "1 2 3 4 5 6\n",
    "1 2 3 4 5\n",
    "1 2 3 4 \n",
    "1 2 3 \n",
    "1 2 \n",
    "1 \n",
    "```\n",
    "# Links and materials\n",
    "https://docs.python.org/3/library/functions.html#print  \n",
    "https://docs.python.org/3/tutorial/controlflow.html#for-statements  \n",
    "https://docs.python.org/3/library/functions.html#func-range "
   ]
  },
  {
   "cell_type": "code",
   "execution_count": 1,
   "id": "04aac9ae",
   "metadata": {},
   "outputs": [],
   "source": [
    "# Тут код"
   ]
  },
  {
   "cell_type": "code",
   "execution_count": null,
   "id": "94498709",
   "metadata": {},
   "outputs": [],
   "source": []
  }
 ],
 "metadata": {
  "kernelspec": {
   "display_name": "Python 3 (ipykernel)",
   "language": "python",
   "name": "python3"
  },
  "language_info": {
   "codemirror_mode": {
    "name": "ipython",
    "version": 3
   },
   "file_extension": ".py",
   "mimetype": "text/x-python",
   "name": "python",
   "nbconvert_exporter": "python",
   "pygments_lexer": "ipython3",
   "version": "3.9.13"
  }
 },
 "nbformat": 4,
 "nbformat_minor": 5
}
